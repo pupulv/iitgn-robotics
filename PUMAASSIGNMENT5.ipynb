{
  "nbformat": 4,
  "nbformat_minor": 0,
  "metadata": {
    "colab": {
      "name": "PUMAASSIGNMENT5.ipynb",
      "provenance": [],
      "collapsed_sections": []
    },
    "kernelspec": {
      "name": "python3",
      "display_name": "Python 3"
    },
    "language_info": {
      "name": "python"
    }
  },
  "cells": [
    {
      "cell_type": "markdown",
      "metadata": {
        "id": "gh-W5_qxqWsN"
      },
      "source": [
        "PATH CALCULATOR"
      ]
    },
    {
      "cell_type": "code",
      "metadata": {
        "colab": {
          "base_uri": "https://localhost:8080/",
          "height": 584
        },
        "id": "iLFoEuL2p5j_",
        "outputId": "8b02903a-b97d-4baa-a16d-8f9ebdb50e2d"
      },
      "source": [
        "\n",
        "import sympy as sym\n",
        "from sympy import diff, sin, cos\n",
        "from scipy.integrate import odeint\n",
        "import scipy\n",
        "import scipy.integrate\n",
        "from scipy.integrate import solve_ivp\n",
        "import numpy as np\n",
        "import matplotlib.pyplot as plt\n",
        "ini=np.array([1,1,1])\n",
        "f=np.array([3,3,3])\n",
        "tf=7\n",
        "ax0=ini[0]\n",
        "ay0=ini[1]\n",
        "az0=ini[2]\n",
        "ax1=0\n",
        "ay1=0\n",
        "az1=0\n",
        "\n",
        "#X=np.array([ax2,ax3,ay2,ay3,az2,az3])\n",
        "A=np.array([[tf**2,tf**3,0,0,0,0],[0,0,tf**2,tf**3,0,0],[0,0,0,0,tf**2,tf**3],[2*tf,3*tf**2,0,0,0,0],[0,0,2*tf,3*tf**2,0,0],[0,0,0,0,2*tf,3*tf**2]])\n",
        "K=np.array([f[0],f[1],f[2],0,0,0])\n",
        "invA=np.linalg.inv(A)\n",
        "X=invA@K\n",
        "\n",
        "ax2=X[0]\n",
        "ax3=X[1]\n",
        "ay2=X[2]\n",
        "ay3=X[3]\n",
        "az2=X[4]\n",
        "az3=X[5]\n",
        "Aa=np.array([[ax0,ax1,ax2,ax3],[ay0,ay1,ay2,ay3],[az0,az1,az2,az3]])\n",
        "arr = np.array([[1,2,3],[4,5,6]])\n",
        "\n",
        "#PATH calculator\n",
        "def pathfunc(tf,Aa,arr):\n",
        "  t=0\n",
        "  for t in range (tf+1):\n",
        "    T=np.array([1,t,t**2,t**3])\n",
        "\n",
        "    \n",
        "    row=Aa@T\n",
        "\n",
        "    arr = np.vstack([arr,row])\n",
        "\n",
        "  return arr\n",
        "\n",
        "arr = np.array([[0,0,0]])\n",
        "arr1 =pathfunc(tf,Aa,arr) #here we get all the points of trajectory\n",
        "print(arr1)\n",
        "\n",
        "#inverse kinematics\n",
        "\n",
        "def invkine(arr1,J):\n",
        "  for i in range(len(arr1)):\n",
        "    x=[0]*3;\n",
        "    x=arr1[i];\n",
        "    d1=1;\n",
        "    d2=3;\n",
        "    d3=1;\n",
        "    k=x[0]**2+x[1]**2\n",
        "    r = abs((k+(x[2]-d1)**2-d2**2-d3**2)/(2*d2*d3))\n",
        "    theta1 = np.arctan2(x[1],x[0])\n",
        "    theta3 = np.arctan2(np.sqrt(abs(1-r**2)),r)\n",
        "    theta2 = np.arctan2(x[1],x[0]) - np.arctan2((d3*np.sin(theta3)),(d2+d3*np.cos(theta3)))\n",
        "    \n",
        "    s=np.array([theta1,theta2,theta3])\n",
        "    J=np.vstack([J,s])\n",
        "  return J\n",
        "\n",
        "    \n",
        "J=np.array([[0,0,0]])\n",
        "arr2=invkine(arr1,J) #here we get all the JOINT VAR of trajectory\n",
        "print(arr2)\n",
        "fig=plt.figure()\n",
        "ax=fig.add_subplot(2,2,1,projection='3d')\n",
        "X=[[s[0] for s in arr1 ],[s[1] for s in arr1 ],[s[2] for s in arr1 ]]\n",
        "ax.plot3D(X[0],X[1],X[2],'r')\n",
        "\n",
        "t=[s for s in range(len(X[0]))]\n",
        "for i in range(3):\n",
        "  ax=fig.add_subplot(2,2,i+2)\n",
        "  ax.plot(t,X[i])\n",
        "\n",
        "\n",
        "plt.show()\n"
      ],
      "execution_count": null,
      "outputs": [
        {
          "output_type": "stream",
          "name": "stdout",
          "text": [
            "[[0.         0.         0.        ]\n",
            " [1.         1.         1.        ]\n",
            " [1.16618076 1.16618076 1.16618076]\n",
            " [1.59475219 1.59475219 1.59475219]\n",
            " [2.18075802 2.18075802 2.18075802]\n",
            " [2.81924198 2.81924198 2.81924198]\n",
            " [3.40524781 3.40524781 3.40524781]\n",
            " [3.83381924 3.83381924 3.83381924]\n",
            " [4.         4.         4.        ]]\n",
            "[[ 0.          0.          0.        ]\n",
            " [ 0.         -0.15591727  0.64052231]\n",
            " [ 0.78539816  0.6424904   0.5843739 ]\n",
            " [ 0.78539816  0.65957346  0.5118173 ]\n",
            " [ 0.78539816  0.61422603  0.7075343 ]\n",
            " [ 0.78539816  0.48139266  1.41928388]\n",
            " [ 0.78539816  0.62756306  0.64887343]\n",
            " [ 0.78539816  0.60271517  0.75907891]\n",
            " [ 0.78539816  0.59961148  0.77313925]\n",
            " [ 0.78539816  0.59901417  0.77585358]]\n"
          ]
        },
        {
          "output_type": "display_data",
          "data": {
            "image/png": "[encoded data removed]",
            "text/plain": [
              "<Figure size 432x288 with 4 Axes>"
            ]
          },
          "metadata": {
            "needs_background": "light"
          }
        }
      ]
    },
    {
      "cell_type": "markdown",
      "metadata": {
        "id": "R8rCltQppdYl"
      },
      "source": [
        "**The 3D is the xyz PLOT and others are X,y,z vs t plot respectively**"
      ]
    },
    {
      "cell_type": "code",
      "metadata": {
        "colab": {
          "base_uri": "https://localhost:8080/"
        },
        "id": "wHMqS6f6p-IS",
        "outputId": "394408b0-ad19-46e1-cfbd-35af36e128f1"
      },
      "source": [
        "arr2[:,2]"
      ],
      "execution_count": null,
      "outputs": [
        {
          "output_type": "execute_result",
          "data": {
            "text/plain": [
              "array([0.        , 0.64052231, 0.5843739 , 0.5118173 , 0.7075343 ,\n",
              "       1.41928388, 0.64887343, 0.75907891, 0.77313925, 0.77585358])"
            ]
          },
          "metadata": {},
          "execution_count": 8
        }
      ]
    },
    {
      "cell_type": "markdown",
      "metadata": {
        "id": "0mRXffzyBvDv"
      },
      "source": [
        "**JC AND JW CALCULATOR**"
      ]
    },
    {
      "cell_type": "code",
      "metadata": {
        "colab": {
          "base_uri": "https://localhost:8080/",
          "height": 98
        },
        "id": "DB9Bd3TL4P0l",
        "outputId": "49650a47-7fc2-4b9c-f054-32d63b60c26b"
      },
      "source": [
        "import sympy as sym\n",
        "from sympy import diff, sin, cos\n",
        "from scipy.integrate import odeint\n",
        "import scipy\n",
        "import scipy.integrate\n",
        "from scipy.integrate import solve_ivp\n",
        "import numpy as np\n",
        "import matplotlib.pyplot as plt\n",
        "a=10.333333333333332 \n",
        "b=7.666666666666666 \n",
        "g=6 \n",
        "d=1.3333333333333333\n",
        "GR=9.8\n",
        "m4=1\n",
        "\n",
        "\n",
        "\n",
        "sym.init_printing()\n",
        "q1, q2, q3,q1dot,q2dot,q3dot,q1ddot,q2ddot,q3ddot,T1,T2,F,mG,l1,l2,l3 = sym.symbols('q1 q2 q3 q1dot q2dot d4dot q1ddot q2ddot d4ddot T1 T2 F mG l1 l2 l3')\n",
        "k1=sym.Matrix([q1,q2,q3])\n",
        "k2=sym.Matrix([q1dot,q2dot,q3dot])\n",
        "k3=sym.Matrix([q1ddot,q2ddot,q3ddot])\n",
        "GQ=sym.Matrix([0,0,mG])\n",
        "tau=sym.Matrix([T1,T2,F])\n",
        "M=sym.Matrix([[-(l1/2)*sym.sin(q1),0,0],[(l1/2)*sym.cos(q1),0,0],[0,0,0]]);\n",
        "X=M.T\n",
        "N=sym.Matrix([[-l1*sym.sin(q1)-(l2/2)*sym.sin(q1+q2),-(l2/2)*sym.sin(q1+q2),0],[(l1)*sym.cos(q1)+(l2/2)*sym.cos(q1+q2),(l2/2)*sym.cos(q1+q2),0],[0,0,0]]);\n",
        "Y=N.T\n",
        "O=sym.Matrix([[-l1*sym.sin(q1)-(l2)*sym.sin(q1+q2),-(l2)*sym.sin(q1+q2),0],[(l1)*sym.cos(q1)+(l2)*sym.cos(q1+q2),(l2)*sym.cos(q1+q2),0],[0,0,-1]]);\n",
        "A1=sym.Matrix([[sym.cos(q1),-sym.sin(q1),0,0],[sym.sin(q1),sym.cos(q1),0,0],[0,0,1,l1],[0,0,0,1]]);\n",
        "\n",
        "A2=sym.Matrix([[sym.cos(q2),0,-sym.sin(q2),0],[sym.sin(q2),0,sym.cos(q2),0],[0,-1,0,l2],[0,0,0,1]]);\n",
        "A3=sym.Matrix([[sym.cos(q3),-sym.sin(q3),0,l3*sym.cos(q1)],[sym.sin(q3),sym.cos(q3),0,l3*sym.sin(q3)],[0,0,1,0],[0,0,0,1]]);\n",
        "\n",
        "\n",
        "\n",
        "sym.simplify(A1*A2*A3)"
      ],
      "execution_count": null,
      "outputs": [
        {
          "output_type": "execute_result",
          "data": {
            "text/latex": "$\\displaystyle \\left[\\begin{matrix}\\cos{\\left(q_{3} \\right)} \\cos{\\left(q_{1} + q_{2} \\right)} & - \\sin{\\left(q_{3} \\right)} \\cos{\\left(q_{1} + q_{2} \\right)} & - \\sin{\\left(q_{1} + q_{2} \\right)} & l_{3} \\cos{\\left(q_{1} \\right)} \\cos{\\left(q_{1} + q_{2} \\right)}\\\\\\sin{\\left(q_{1} + q_{2} \\right)} \\cos{\\left(q_{3} \\right)} & - \\sin{\\left(q_{3} \\right)} \\sin{\\left(q_{1} + q_{2} \\right)} & \\cos{\\left(q_{1} + q_{2} \\right)} & l_{3} \\sin{\\left(q_{1} + q_{2} \\right)} \\cos{\\left(q_{1} \\right)}\\\\- \\sin{\\left(q_{3} \\right)} & - \\cos{\\left(q_{3} \\right)} & 0 & l_{1} + l_{2} - l_{3} \\sin{\\left(q_{3} \\right)}\\\\0 & 0 & 0 & 1\\end{matrix}\\right]$",
            "text/plain": [
              "⎡cos(q₃)⋅cos(q₁ + q₂)  -sin(q₃)⋅cos(q₁ + q₂)  -sin(q₁ + q₂)  l₃⋅cos(q₁)⋅cos(q₁\n",
              "⎢                                                                             \n",
              "⎢sin(q₁ + q₂)⋅cos(q₃)  -sin(q₃)⋅sin(q₁ + q₂)  cos(q₁ + q₂)   l₃⋅sin(q₁ + q₂)⋅c\n",
              "⎢                                                                             \n",
              "⎢      -sin(q₃)              -cos(q₃)               0         l₁ + l₂ - l₃⋅sin\n",
              "⎢                                                                             \n",
              "⎣         0                      0                  0                   1     \n",
              "\n",
              " + q₂)⎤\n",
              "      ⎥\n",
              "os(q₁)⎥\n",
              "      ⎥\n",
              "(q₃)  ⎥\n",
              "      ⎥\n",
              "      ⎦"
            ]
          },
          "metadata": {},
          "execution_count": 7
        }
      ]
    },
    {
      "cell_type": "markdown",
      "metadata": {
        "id": "7G4AMRpCpqrS"
      },
      "source": [
        "**Symbolic Jacobian Calculator**"
      ]
    },
    {
      "cell_type": "code",
      "metadata": {
        "colab": {
          "base_uri": "https://localhost:8080/",
          "height": 78
        },
        "id": "KV_yYrKQ4pMM",
        "outputId": "9df586dc-cc48-434c-8a66-5bf90d4f80c5"
      },
      "source": [
        "import sympy as sym\n",
        "from sympy import diff, sin, cos\n",
        "from scipy.integrate import odeint\n",
        "import scipy\n",
        "import scipy.integrate\n",
        "from scipy.integrate import solve_ivp\n",
        "import numpy as np\n",
        "import matplotlib.pyplot as plt\n",
        "a=10.333333333333332 \n",
        "b=7.666666666666666 \n",
        "g=6 \n",
        "d=1.3333333333333333\n",
        "GR=9.8\n",
        "m4=1\n",
        "l1=2\n",
        "l2=2\n",
        "\n",
        "\n",
        "sym.init_printing()\n",
        "q1, q2, q3,q1dot,q2dot,q3dot,q1ddot,q2ddot,q3ddot,T1,T2,F,mG,l1,l2,l3 = sym.symbols('q1 q2 q3 q1dot q2dot q3dot q1ddot q2ddot q3ddot T1 T2 F mG l1 l2 l3')\n",
        "k1=sym.Matrix([q1,q2,q3])\n",
        "k2=sym.Matrix([q1dot,q2dot,q3dot])\n",
        "k3=sym.Matrix([q1ddot,q2ddot,q3ddot])\n",
        "GQ=sym.Matrix([0,0,mG])\n",
        "tau=sym.Matrix([T1,T2,F])\n",
        "\n",
        "\n",
        "Z0=sym.Matrix([[0],[0],[1]]);\n",
        "Z1=sym.Matrix([[0],[0],[1]]);\n",
        "Z2=sym.Matrix([[-sym.sin(q1+q2)],[sym.cos(q1+q2)],[0]]);\n",
        "O3=sym.Matrix([[l3*sym.cos(q1)*sym.cos(q1+q2)],[l3*sym.cos(q1)*sym.sin(q1+q2)],[l1+l2-l3*sym.sin(q3)]])\n",
        "O2=sym.Matrix([[0],[0],[l1+l2]])\n",
        "O1=sym.Matrix([[0],[0],[l1]])\n",
        "O0=sym.Matrix([[0],[0],[0]])\n",
        "\n",
        "sym.simplify(Z0.cross(O3-O0)),sym.simplify(Z1.cross(O3-O1)),sym.simplify(Z2.cross(O3-O2))"
      ],
      "execution_count": null,
      "outputs": [
        {
          "output_type": "execute_result",
          "data": {
            "text/latex": "$\\displaystyle \\left( \\left[\\begin{matrix}- l_{3} \\sin{\\left(q_{1} + q_{2} \\right)} \\cos{\\left(q_{1} \\right)}\\\\l_{3} \\cos{\\left(q_{1} \\right)} \\cos{\\left(q_{1} + q_{2} \\right)}\\\\0\\end{matrix}\\right], \\  \\left[\\begin{matrix}- l_{3} \\sin{\\left(q_{1} + q_{2} \\right)} \\cos{\\left(q_{1} \\right)}\\\\l_{3} \\cos{\\left(q_{1} \\right)} \\cos{\\left(q_{1} + q_{2} \\right)}\\\\0\\end{matrix}\\right], \\  \\left[\\begin{matrix}- l_{3} \\sin{\\left(q_{3} \\right)} \\cos{\\left(q_{1} + q_{2} \\right)}\\\\- l_{3} \\sin{\\left(q_{3} \\right)} \\sin{\\left(q_{1} + q_{2} \\right)}\\\\- l_{3} \\cos{\\left(q_{1} \\right)}\\end{matrix}\\right]\\right)$",
            "text/plain": [
              "⎛⎡-l₃⋅sin(q₁ + q₂)⋅cos(q₁)⎤  ⎡-l₃⋅sin(q₁ + q₂)⋅cos(q₁)⎤  ⎡-l₃⋅sin(q₃)⋅cos(q₁ +\n",
              "⎜⎢                        ⎥  ⎢                        ⎥  ⎢                    \n",
              "⎜⎢l₃⋅cos(q₁)⋅cos(q₁ + q₂) ⎥, ⎢l₃⋅cos(q₁)⋅cos(q₁ + q₂) ⎥, ⎢-l₃⋅sin(q₃)⋅sin(q₁ +\n",
              "⎜⎢                        ⎥  ⎢                        ⎥  ⎢                    \n",
              "⎝⎣           0            ⎦  ⎣           0            ⎦  ⎣      -l₃⋅cos(q₁)   \n",
              "\n",
              " q₂)⎤⎞\n",
              "    ⎥⎟\n",
              " q₂)⎥⎟\n",
              "    ⎥⎟\n",
              "    ⎦⎠"
            ]
          },
          "metadata": {},
          "execution_count": 1
        }
      ]
    },
    {
      "cell_type": "markdown",
      "metadata": {
        "id": "bhINZ71VB5OM"
      },
      "source": [
        "Q1DDOT Q2DDOT Q3DDOT CALCULATOR"
      ]
    },
    {
      "cell_type": "code",
      "metadata": {
        "colab": {
          "base_uri": "https://localhost:8080/",
          "height": 141
        },
        "id": "tRQWK9bj_cGs",
        "outputId": "e4b34738-68ee-493a-c49a-42d70a33adcd"
      },
      "source": [
        "import sympy as sym\n",
        "from sympy import diff, sin, cos\n",
        "from scipy.integrate import odeint\n",
        "import scipy\n",
        "import scipy.integrate\n",
        "from scipy.integrate import solve_ivp\n",
        "import numpy as np\n",
        "import matplotlib.pyplot as plt\n",
        "a=10.333333333333332 \n",
        "b=7.666666666666666 \n",
        "g=6 \n",
        "d=1.3333333333333333\n",
        "GR=9.8\n",
        "m4=1\n",
        "l1=2\n",
        "l2=2\n",
        "l3=2\n",
        "#I1+I2 I2\n",
        "#I2 I2\n",
        "i1=1\n",
        "i2=1\n",
        "i3=1\n",
        "m1g=1\n",
        "m2g=1\n",
        "m3g=1\n",
        "sym.init_printing()\n",
        "q1, q2, q3,q1dot,q2dot,q3dot,q1ddot,q2ddot,q3ddot,T1,T2,T3,mG,l1,l2,l3 = sym.symbols('q1 q2 q3 q1dot q2dot q3dot q1ddot q2ddot q3ddot T1 T2 T3 mG l1 l2 l3')\n",
        "k1=sym.Matrix([q1,q2,q3])\n",
        "k2=sym.Matrix([q1dot,q2dot,q3dot])\n",
        "k3=sym.Matrix([q1ddot,q2ddot,q3ddot])\n",
        "VQ=m1g*l1/2+m2g*(l1)+m2g*(l2/2)*sym.sin(q2)+m3g*(l1+l2+l3/2)*sym.sin(q3+q2)\n",
        "X1=sym.diff(VQ,q1)\n",
        "X2=sym.diff(VQ,q2)\n",
        "X3=sym.diff(VQ,q3)\n",
        "GQ=sym.Matrix([X1,X2,X3])\n",
        "tau=sym.Matrix([T1,T2,T3])\n",
        "M=sym.Matrix([[0,0,0],[0,0,0],[0,0,0]]);\n",
        "X=M.T\n",
        "N=sym.Matrix([[0,0,0],[0,0,0],[0,0,0]]);\n",
        "Y=N.T\n",
        "O=sym.Matrix([[-l3*sym.sin(q1+q2)*sym.cos(q1),(l2-l3*sym.sin(q3))*sym.cos(q1+q2),-l3*sym.sin(q3)*cos(q1+q2)],[l3*sym.cos(q1+q2)*sym.cos(q1),(l2-l3*sym.sin(q3))*sym.sin(q1+q2),-l3*sym.sin(q3)*sin(q1+q2)],[0,-l3*sym.cos(q1),-l3*sym.cos(q1)]]);\n",
        "Z=O.T\n",
        "#FOR ROTATIONAL ENERGY CALCULATION\n",
        "M1=sym.Matrix([[0,0,0],[0,0,0],[1,0,0]]);\n",
        "X1=M1.T\n",
        "N1=sym.Matrix([[0,-sym.sin(q1+q2),-sym.sin(q1+q2)],[0,sym.cos(q1+q2),sym.cos(q1+q2)],[1,0,0]]);\n",
        "Y1=N1.T\n",
        "O1=sym.Matrix([[0,-sym.sin(q1+q2),-sym.sin(q1+q2)],[0,sym.cos(q1+q2),sym.cos(q1+q2)],[1,0,0]]);\n",
        "Z1=O1.T\n",
        "I=sym.Matrix([[i1,0,0],[0,i2,0],[0,0,i3]])\n",
        "\n",
        "DQ0=sym.simplify(X*M)+sym.simplify(Y*N)+sym.simplify(Z*O)\n",
        "DQ1=(sym.simplify(X1*M1)+sym.simplify(Y1*N1)+sym.simplify(Z1*O1))*I\n",
        "DQ=DQ0+DQ1\n",
        "no1=3\n",
        "\n",
        "CQQD= sym.Matrix([[0,0,0],[0,0,0],[0,0,0]])\n",
        "\n",
        "#Cqqd CALCULATOR\n",
        "for k in range(no1):\n",
        "    for j in range(no1):\n",
        "        su=0\n",
        "        for i in range(no1):\n",
        "            su+=(0.5*(sym.diff(DQ[k,j],k1[i]) + sym.diff(DQ[k,i],k1[j])-sym.diff(DQ[i,j],k1[k])))*k2[i]\n",
        "            \n",
        "        CQQD[k,j]=su\n",
        "        \n",
        "        \n",
        "\n",
        "difF=sym.simplify(DQ.inv()*(CQQD*(k2)+GQ-tau))\n",
        "difF"
      ],
      "execution_count": null,
      "outputs": [
        {
          "output_type": "execute_result",
          "data": {
            "text/latex": "$\\displaystyle \\left[\\begin{matrix}\\frac{- T_{1} - 0.5 l_{3}^{2} \\dot{q1}^{2} \\sin{\\left(2 q_{1} \\right)} + 0.5 l_{3}^{2} \\dot{q2} \\left(\\dot{q2} + \\dot{q3}\\right) \\sin{\\left(2 q_{1} \\right)} + 0.5 l_{3}^{2} \\dot{q3} \\left(\\dot{q2} + \\dot{q3}\\right) \\sin{\\left(2 q_{1} \\right)}}{l_{3}^{2} \\cos^{2}{\\left(q_{1} \\right)} + 3}\\\\\\frac{- \\left(- l_{3}^{2} \\sin^{2}{\\left(q_{1} \\right)} + l_{3}^{2} \\sin^{2}{\\left(q_{3} \\right)} + l_{3}^{2} + 2\\right) \\left(2.0 T_{2} - 2.0 l_{1} \\cos{\\left(q_{2} + q_{3} \\right)} + 4.0 l_{2} l_{3} \\dot{q2} \\dot{q3} \\cos{\\left(q_{3} \\right)} + 2.0 l_{2} l_{3} \\dot{q3}^{2} \\cos{\\left(q_{3} \\right)} - 1.0 l_{2} \\cos{\\left(q_{2} \\right)} - 2.0 l_{2} \\cos{\\left(q_{2} + q_{3} \\right)} + 2.0 l_{3}^{2} \\dot{q1} \\dot{q2} \\sin{\\left(2 q_{1} \\right)} + 2.0 l_{3}^{2} \\dot{q1} \\dot{q3} \\sin{\\left(2 q_{1} \\right)} - 2.0 l_{3}^{2} \\dot{q2} \\dot{q3} \\sin{\\left(2 q_{3} \\right)} - 2.0 l_{3}^{2} \\dot{q3}^{2} \\sin{\\left(2 q_{3} \\right)} - 1.0 l_{3} \\cos{\\left(q_{2} + q_{3} \\right)}\\right) + \\left(2 T_{3} + l_{3}^{2} \\dot{q1} \\left(\\dot{q2} + \\dot{q3}\\right) \\sin{\\left(2 q_{1} \\right)} + l_{3}^{2} \\dot{q3} \\left(\\dot{q1} \\sin{\\left(2 q_{1} \\right)} - \\dot{q3} \\sin{\\left(2 q_{3} \\right)}\\right) + l_{3} \\dot{q2} \\left(l_{3} \\dot{q1} \\sin{\\left(2 q_{1} \\right)} - 2 \\dot{q2} \\left(l_{2} - l_{3} \\sin{\\left(q_{3} \\right)}\\right) \\cos{\\left(q_{3} \\right)}\\right) - \\left(2 l_{1} + 2 l_{2} + l_{3}\\right) \\cos{\\left(q_{2} + q_{3} \\right)}\\right) \\left(- l_{2} l_{3} \\sin{\\left(q_{3} \\right)} - l_{3}^{2} \\sin^{2}{\\left(q_{1} \\right)} + l_{3}^{2} \\sin^{2}{\\left(q_{3} \\right)} + l_{3}^{2} + 2\\right)}{2 l_{2}^{2} \\left(l_{3}^{2} \\cos^{2}{\\left(q_{1} \\right)} + 2\\right)}\\\\\\frac{- \\left(2 T_{3} + l_{3}^{2} \\dot{q1} \\left(\\dot{q2} + \\dot{q3}\\right) \\sin{\\left(2 q_{1} \\right)} + l_{3}^{2} \\dot{q3} \\left(\\dot{q1} \\sin{\\left(2 q_{1} \\right)} - \\dot{q3} \\sin{\\left(2 q_{3} \\right)}\\right) + l_{3} \\dot{q2} \\left(l_{3} \\dot{q1} \\sin{\\left(2 q_{1} \\right)} - 2 \\dot{q2} \\left(l_{2} - l_{3} \\sin{\\left(q_{3} \\right)}\\right) \\cos{\\left(q_{3} \\right)}\\right) - \\left(2 l_{1} + 2 l_{2} + l_{3}\\right) \\cos{\\left(q_{2} + q_{3} \\right)}\\right) \\left(l_{2}^{2} - 2 l_{2} l_{3} \\sin{\\left(q_{3} \\right)} - l_{3}^{2} \\sin^{2}{\\left(q_{1} \\right)} + l_{3}^{2} \\sin^{2}{\\left(q_{3} \\right)} + l_{3}^{2} + 2\\right) + \\left(- l_{2} l_{3} \\sin{\\left(q_{3} \\right)} - l_{3}^{2} \\sin^{2}{\\left(q_{1} \\right)} + l_{3}^{2} \\sin^{2}{\\left(q_{3} \\right)} + l_{3}^{2} + 2\\right) \\left(2.0 T_{2} - 2.0 l_{1} \\cos{\\left(q_{2} + q_{3} \\right)} + 4.0 l_{2} l_{3} \\dot{q2} \\dot{q3} \\cos{\\left(q_{3} \\right)} + 2.0 l_{2} l_{3} \\dot{q3}^{2} \\cos{\\left(q_{3} \\right)} - 1.0 l_{2} \\cos{\\left(q_{2} \\right)} - 2.0 l_{2} \\cos{\\left(q_{2} + q_{3} \\right)} + 2.0 l_{3}^{2} \\dot{q1} \\dot{q2} \\sin{\\left(2 q_{1} \\right)} + 2.0 l_{3}^{2} \\dot{q1} \\dot{q3} \\sin{\\left(2 q_{1} \\right)} - 2.0 l_{3}^{2} \\dot{q2} \\dot{q3} \\sin{\\left(2 q_{3} \\right)} - 2.0 l_{3}^{2} \\dot{q3}^{2} \\sin{\\left(2 q_{3} \\right)} - 1.0 l_{3} \\cos{\\left(q_{2} + q_{3} \\right)}\\right)}{2 l_{2}^{2} \\left(l_{3}^{2} \\cos^{2}{\\left(q_{1} \\right)} + 2\\right)}\\end{matrix}\\right]$",
            "text/plain": [
              "⎡                                                                             \n",
              "⎢                                                                             \n",
              "⎢                                                                             \n",
              "⎢                                                                             \n",
              "⎢                                                                             \n",
              "⎢                                                                             \n",
              "⎢             ⎛    2    2         2    2         2    ⎞ ⎛                     \n",
              "⎢           - ⎝- l₃ ⋅sin (q₁) + l₃ ⋅sin (q₃) + l₃  + 2⎠⋅⎝2.0⋅T₂ - 2.0⋅l₁⋅cos(q\n",
              "⎢           ──────────────────────────────────────────────────────────────────\n",
              "⎢                                                                             \n",
              "⎢                                                                             \n",
              "⎢                                                                             \n",
              "⎢  ⎛         2                            2                                   \n",
              "⎢- ⎝2⋅T₃ + l₃ ⋅q1̇⋅(q2̇ + q3̇)⋅sin(2⋅q₁) + l₃ ⋅q3̇⋅(q1̇⋅sin(2⋅q₁) - q3̇⋅sin(2⋅\n",
              "⎢─────────────────────────────────────────────────────────────────────────────\n",
              "⎢                                                                             \n",
              "⎣                                                                             \n",
              "\n",
              "                                                                              \n",
              "                                                                              \n",
              "                                                                              \n",
              "                                                                              \n",
              "                                                                              \n",
              "                                                                              \n",
              "                                                2                             \n",
              "₂ + q₃) + 4.0⋅l₂⋅l₃⋅q2̇⋅q3̇⋅cos(q₃) + 2.0⋅l₂⋅l₃⋅q3̇ ⋅cos(q₃) - l₂⋅cos(q₂) - 2.\n",
              "──────────────────────────────────────────────────────────────────────────────\n",
              "                                                                              \n",
              "                                                                              \n",
              "                                                                              \n",
              "                                                                              \n",
              "q₃)) + l₃⋅q2̇⋅(l₃⋅q1̇⋅sin(2⋅q₁) - 2⋅q2̇⋅(l₂ - l₃⋅sin(q₃))⋅cos(q₃)) - (2⋅l₁ + 2\n",
              "──────────────────────────────────────────────────────────────────────────────\n",
              "                                                                              \n",
              "                                                                              \n",
              "\n",
              "                                                                          2   \n",
              "                                                              -T₁ - 0.5⋅l₃ ⋅q1\n",
              "                                                              ────────────────\n",
              "                                                                              \n",
              "                                                                              \n",
              "                                                                              \n",
              "                       2                         2                         2  \n",
              "0⋅l₂⋅cos(q₂ + q₃) + 2.0⋅l₃ ⋅q1̇⋅q2̇⋅sin(2⋅q₁) + 2.0⋅l₃ ⋅q1̇⋅q3̇⋅sin(2⋅q₁) - 2.\n",
              "──────────────────────────────────────────────────────────────────────────────\n",
              "                                                                              \n",
              "                                                                              \n",
              "                                                                              \n",
              "             ⎞ ⎛  2                       2    2         2    2         2    ⎞\n",
              "⋅l₂ + l₃)⋅cos(q₂ + q₃)⎠⋅⎝l₂  - 2⋅l₂⋅l₃⋅sin(q₃) - l₃ ⋅sin (q₁) + l₃ ⋅sin (q₃) +\n",
              "──────────────────────────────────────────────────────────────────────────────\n",
              "                                                                              \n",
              "                                                                              \n",
              "\n",
              "2                   2                                2                        \n",
              "̇ ⋅sin(2⋅q₁) + 0.5⋅l₃ ⋅q2̇⋅(q2̇ + q3̇)⋅sin(2⋅q₁) + 0.5⋅l₃ ⋅q3̇⋅(q2̇ + q3̇)⋅sin\n",
              "───────────────────────────────────────────────────────────────────────────── \n",
              "                         2    2                                               \n",
              "                       l₃ ⋅cos (q₁) + 3                                       \n",
              "                                                                              \n",
              "                       2   2                            ⎞   ⎛         2       \n",
              "0⋅l₃ ⋅q2̇⋅q3̇⋅sin(2⋅q₃) - 2.0⋅l₃ ⋅q3̇ ⋅sin(2⋅q₃) - l₃⋅cos(q₂ + q₃)⎠ + ⎝2⋅T₃ + \n",
              "──────────────────────────────────────────────────────────────────────────────\n",
              "                       2 ⎛  2    2        ⎞                                   \n",
              "                   2⋅l₂ ⋅⎝l₃ ⋅cos (q₁) + 2⎠                                   \n",
              "                                                                              \n",
              "   ⎛                   2    2         2    2         2    ⎞ ⎛                 \n",
              " l₃  + 2⎠ + ⎝-l₂⋅l₃⋅sin(q₃) - l₃ ⋅sin (q₁) + l₃ ⋅sin (q₃) + l₃  + 2⎠⋅⎝2.0⋅T₂ -\n",
              "──────────────────────────────────────────────────────────────────────────────\n",
              "                       2 ⎛  2    2        ⎞                                   \n",
              "                   2⋅l₂ ⋅⎝l₃ ⋅cos (q₁) + 2⎠                                   \n",
              "\n",
              "                                                                              \n",
              "(2⋅q₁)                                                                        \n",
              "                                                                              \n",
              "                                                                              \n",
              "                                                                              \n",
              "                                                                              \n",
              "                     2                                                        \n",
              "l₃ ⋅q1̇⋅(q2̇ + q3̇)⋅sin(2⋅q₁) + l₃ ⋅q3̇⋅(q1̇⋅sin(2⋅q₁) - q3̇⋅sin(2⋅q₃)) + l₃⋅q\n",
              "──────────────────────────────────────────────────────────────────────────────\n",
              "                                                                              \n",
              "                                                                              \n",
              "                                                                              \n",
              "                                                    2                         \n",
              " 2.0⋅l₁⋅cos(q₂ + q₃) + 4.0⋅l₂⋅l₃⋅q2̇⋅q3̇⋅cos(q₃) + 2.0⋅l₂⋅l₃⋅q3̇ ⋅cos(q₃) - l₂\n",
              "──────────────────────────────────────────────────────────────────────────────\n",
              "                                                                              \n",
              "                                                                              \n",
              "\n",
              "                                                                              \n",
              "                                                                              \n",
              "                                                                              \n",
              "                                                                              \n",
              "                                                                              \n",
              "                                                                              \n",
              "                                                                      ⎞ ⎛     \n",
              "2̇⋅(l₃⋅q1̇⋅sin(2⋅q₁) - 2⋅q2̇⋅(l₂ - l₃⋅sin(q₃))⋅cos(q₃)) - (2⋅l₁ + 2⋅l₂ + l₃)⋅c\n",
              "──────────────────────────────────────────────────────────────────────────────\n",
              "                                                                              \n",
              "                                                                              \n",
              "                                                                              \n",
              "                           2                         2                        \n",
              "⋅cos(q₂) - 2.0⋅l₂⋅cos(q₂ + q₃) + 2.0⋅l₃ ⋅q1̇⋅q2̇⋅sin(2⋅q₁) + 2.0⋅l₃ ⋅q1̇⋅q3̇⋅s\n",
              "──────────────────────────────────────────────────────────────────────────────\n",
              "                                                                              \n",
              "                                                                              \n",
              "\n",
              "                                                             ⎤\n",
              "                                                                    ⎥\n",
              "                                                             ⎥\n",
              "                                                             ⎥\n",
              "                                                             ⎥\n",
              "                                                             ⎥\n",
              "              2    2         2    2         2    ⎞           ⎥\n",
              "os(q₂ + q₃)⎠⋅⎝-l₂⋅l₃⋅sin(q₃) - l₃ ⋅sin (q₁) + l₃ ⋅sin (q₃) + l₃  + 2⎠         \n",
              "──────────────────────────────────────────────────           ⎥\n",
              "                                                             ⎥\n",
              "                                                             ⎥\n",
              "                                                             ⎥\n",
              " 2                         2   2                            ⎞⎥\n",
              "in(2⋅q₁) - 2.0⋅l₃ ⋅q2̇⋅q3̇⋅sin(2⋅q₃) - 2.0⋅l₃ ⋅q3̇ ⋅sin(2⋅q₃) - l₃⋅cos(q₂ + q₃\n",
              "─────────────────────────────────────────────────────────────⎥\n",
              "                                                             ⎥\n",
              "                                                             ⎦"
            ]
          },
          "metadata": {},
          "execution_count": 8
        }
      ]
    },
    {
      "cell_type": "code",
      "metadata": {
        "colab": {
          "base_uri": "https://localhost:8080/",
          "height": 102
        },
        "id": "wegG8oQHonFy",
        "outputId": "446e3960-8cca-40d5-9322-40a3bd3b15ca"
      },
      "source": [
        "from sympy.printing.pycode import pycode\n",
        "pycode(difF[2])"
      ],
      "execution_count": null,
      "outputs": [
        {
          "output_type": "execute_result",
          "data": {
            "application/vnd.google.colaboratory.intrinsic+json": {
              "type": "string"
            },
            "text/plain": [
              "'(1/2)*(-(2*T3 + l3**2*q1dot*(q2dot + q3dot)*math.sin(2*q1) + l3**2*q3dot*(q1dot*math.sin(2*q1) - q3dot*math.sin(2*q3)) + l3*q2dot*(l3*q1dot*math.sin(2*q1) - 2*q2dot*(l2 - l3*math.sin(q3))*math.cos(q3)) - (2*l1 + 2*l2 + l3)*math.cos(q2 + q3))*(l2**2 - 2*l2*l3*math.sin(q3) - l3**2*math.sin(q1)**2 + l3**2*math.sin(q3)**2 + l3**2 + 2) + (-l2*l3*math.sin(q3) - l3**2*math.sin(q1)**2 + l3**2*math.sin(q3)**2 + l3**2 + 2)*(2.0*T2 - 2.0*l1*math.cos(q2 + q3) + 4.0*l2*l3*q2dot*q3dot*math.cos(q3) + 2.0*l2*l3*q3dot**2*math.cos(q3) - 1.0*l2*math.cos(q2) - 2.0*l2*math.cos(q2 + q3) + 2.0*l3**2*q1dot*q2dot*math.sin(2*q1) + 2.0*l3**2*q1dot*q3dot*math.sin(2*q1) - 2.0*l3**2*q2dot*q3dot*math.sin(2*q3) - 2.0*l3**2*q3dot**2*math.sin(2*q3) - 1.0*l3*math.cos(q2 + q3)))/(l2**2*(l3**2*math.cos(q1)**2 + 2))'"
            ]
          },
          "metadata": {},
          "execution_count": 11
        }
      ]
    },
    {
      "cell_type": "markdown",
      "metadata": {
        "id": "NYV7OQPvCGbr"
      },
      "source": [
        "**FINAL EQN SOLVER WITH PI IMPLEMENTATION**"
      ]
    },
    {
      "cell_type": "code",
      "metadata": {
        "colab": {
          "base_uri": "https://localhost:8080/",
          "height": 296
        },
        "id": "OPPHepOwGT8k",
        "outputId": "edfaa326-2f95-4d94-eb43-d776a01f041a"
      },
      "source": [
        "import sympy as sym\n",
        "import math as math\n",
        "from sympy import diff, sin, cos\n",
        "from scipy.integrate import odeint\n",
        "import scipy\n",
        "import scipy.integrate\n",
        "from scipy.integrate import solve_ivp\n",
        "import numpy as np\n",
        "import matplotlib.pyplot as plt\n",
        "'''def model(z,t):\n",
        "  dq1dt=sym.diff(q1)\n",
        "  dq2dt=sym.diff(q2)\n",
        "  dzdt=sym.diff(d4)\n",
        "  dq1ddt=r[0]\n",
        "  dq2ddt=r[1]\n",
        "  dzddt=r[2]\n",
        "  dzdt=[dq1dt,dq2dt,dzdt,dq1ddt,dq2ddt,dzddt]\n",
        "  return dzdt\n",
        "\n",
        "z0 = [0,0]\n",
        "t=np.linspace(0,5)\n",
        "z=odeint(model,z0,t)'''\n",
        "l1=1\n",
        "l2=1\n",
        "l3=1\n",
        "mG=1\n",
        "E1=[]\n",
        "E2=[]\n",
        "E3=[]\n",
        "T=[]\n",
        "Q1=np.array([0.        , 0.78539816, 0.78539816, 0.78539816,\n",
        "       0.78539816, 0.78539816, 0.78539816, 0.78539816, 0.78539816])\n",
        "Q2=np.array([ -0.15591727,  0.6424904 ,  0.65957346,  0.61422603,\n",
        "        0.48139266,  0.62756306,  0.60271517,  0.59961148,  0.59901417])\n",
        "Q3=np.array([  0.64052231, 0.5843739 , 0.5118173 , 0.7075343 ,\n",
        "       1.41928388, 0.64887343, 0.75907891, 0.77313925, 0.77585358])\n",
        "\n",
        "def Model(t, y):\n",
        "\n",
        "      KP1=0.8\n",
        "      KI1=0.1003\n",
        "      KP2=0.6\n",
        "      KI2=5\n",
        "      KP3=1.3\n",
        "      KI3=8\n",
        "      q1=y[0]\n",
        "      q2=y[1]\n",
        "      q3=y[2]\n",
        "      \n",
        "      q1dot=y[3]\n",
        "      q2dot=y[4]\n",
        "      q3dot=y[5]\n",
        "      dq1dt=q1dot\n",
        "      dq2dt=q2dot\n",
        "      dq3dt=q3dot\n",
        "      T.append(t)\n",
        "   \n",
        "      n=round(t)\n",
        "      if(t<=n+1):\n",
        "        e1=(Q1[n-1]-q1)\n",
        "        e2=(Q2[n-1]-q2)\n",
        "        e3=(Q3[n-1]-q3)\n",
        "      else:\n",
        "        n=n+1\n",
        "        e1=(Q1[n]-q1)\n",
        "        e2=(Q2[n]-q2)\n",
        "        e3=(Q3[n]-d4)\n",
        "   \n",
        "      E1.append(e1)\n",
        "      E2.append(e2)\n",
        "      E3.append(e3)\n",
        "      s1=0\n",
        "      s2=0\n",
        "      s3=0\n",
        "\n",
        "      if(t>2):\n",
        "          for i in range(7):\n",
        "              s1=s1+ (E1[-(1+i)])*(T[-(1+i)]-T[-(2+i)])\n",
        "              s2=s2+ (E2[-(1+i)])*(T[-(1+i)]-T[-(2+i)])\n",
        "              s3=s3+ (E3[-(1+i)])*(T[-(1+i)]-T[-(2+i)])\n",
        "\n",
        "      T1=KP1*(e1)+KI1*(s1)\n",
        "    #print(T1)\n",
        "      T2=KP2*(e2)+KI2*(s2)\n",
        "      T3=KP3*(e3)+KI3*(s3)\n",
        "\n",
        "      l1=1\n",
        "      l2=1\n",
        "      l3=1\n",
        "    \n",
        "      len(Q1)\n",
        "    \n",
        "      dq1ddt=(-T1 - 0.5*l3**2*q1dot**2*math.sin(2*q1) + 0.5*l3**2*q2dot*(q2dot + q3dot)*math.sin(2*q1) + 0.5*l3**2*q3dot*(q2dot + q3dot)*math.sin(2*q1))/(l3**2*math.cos(q1)**2 + 3)\n",
        "      dq2ddt=(1/2)*(-(-l3**2*math.sin(q1)**2 + l3**2*math.sin(q3)**2 + l3**2 + 2)*(2.0*T2 - 2.0*l1*math.cos(q2 + q3) + 4.0*l2*l3*q2dot*q3dot*math.cos(q3) + 2.0*l2*l3*q3dot**2*math.cos(q3) - 1.0*l2*math.cos(q2) - 2.0*l2*math.cos(q2 + q3) + 2.0*l3**2*q1dot*q2dot*math.sin(2*q1) + 2.0*l3**2*q1dot*q3dot*math.sin(2*q1) - 2.0*l3**2*q2dot*q3dot*math.sin(2*q3) - 2.0*l3**2*q3dot**2*math.sin(2*q3) - 1.0*l3*math.cos(q2 + q3)) + (2*T3 + l3**2*q1dot*(q2dot + q3dot)*math.sin(2*q1) + l3**2*q3dot*(q1dot*math.sin(2*q1) - q3dot*math.sin(2*q3)) + l3*q2dot*(l3*q1dot*math.sin(2*q1) - 2*q2dot*(l2 - l3*math.sin(q3))*math.cos(q3)) - (2*l1 + 2*l2 + l3)*math.cos(q2 + q3))*(-l2*l3*math.sin(q3) - l3**2*math.sin(q1)**2 + l3**2*math.sin(q3)**2 + l3**2 + 2))/(l2**2*(l3**2*math.cos(q1)**2 + 2))\n",
        "      dq3ddt= (1/2)*(-(2*T3 + l3**2*q1dot*(q2dot + q3dot)*math.sin(2*q1) + l3**2*q3dot*(q1dot*math.sin(2*q1) - q3dot*math.sin(2*q3)) + l3*q2dot*(l3*q1dot*math.sin(2*q1) - 2*q2dot*(l2 - l3*math.sin(q3))*math.cos(q3)) - (2*l1 + 2*l2 + l3)*math.cos(q2 + q3))*(l2**2 - 2*l2*l3*math.sin(q3) - l3**2*math.sin(q1)**2 + l3**2*math.sin(q3)**2 + l3**2 + 2) + (-l2*l3*math.sin(q3) - l3**2*math.sin(q1)**2 + l3**2*math.sin(q3)**2 + l3**2 + 2)*(2.0*T2 - 2.0*l1*math.cos(q2 + q3) + 4.0*l2*l3*q2dot*q3dot*math.cos(q3) + 2.0*l2*l3*q3dot**2*math.cos(q3) - 1.0*l2*math.cos(q2) - 2.0*l2*math.cos(q2 + q3) + 2.0*l3**2*q1dot*q2dot*math.sin(2*q1) + 2.0*l3**2*q1dot*q3dot*math.sin(2*q1) - 2.0*l3**2*q2dot*q3dot*math.sin(2*q3) - 2.0*l3**2*q3dot**2*math.sin(2*q3) - 1.0*l3*math.cos(q2 + q3)))/(l2**2*(l3**2*math.cos(q1)**2 + 2))\n",
        "      dydt = [dq1dt,dq2dt,dq3dt,dq1ddt,dq2ddt,dq3ddt]\n",
        "      return dydt\n",
        "\n",
        "\n",
        "\n",
        "initstate = np.array([Q1[0],Q2[0],Q3[0],0,0,0]) # initial states\n",
        "timestep = 1\n",
        "\n",
        "time = np.linspace(0,7,7) # define the time for which we want to solve\n",
        "\n",
        "\n",
        "# solve the ODE. solve_ivp is the most recent version of the solver. Check docs for more information on how to use.\n",
        "solution = solve_ivp(Model,[0, time[-1]], initstate, t_eval= time) \n",
        "Q1n=solution.y[0]\n",
        "Q2n=solution.y[1]\n",
        "Q3n=solution.y[2]\n",
        "Q1DOT=solution.y[3]\n",
        "Q2DOT=solution.y[4]\n",
        "Q3DOT=solution.y[5]\n",
        "plt.plot(Q1,'y')\n",
        "plt.plot(Q1n,'b')\n",
        "plt.xlabel('time')\n",
        "plt.ylabel('Q1')\n",
        "plt.legend([\"Q1desired\", \"Q1(PI control)actual\"], loc =\"upper left\")\n",
        "\n"
      ],
      "execution_count": null,
      "outputs": [
        {
          "output_type": "execute_result",
          "data": {
            "text/plain": [
              "<matplotlib.legend.Legend at 0x7f99e26d18d0>"
            ]
          },
          "metadata": {},
          "execution_count": 21
        },
        {
          "output_type": "display_data",
          "data": {
            "image/png": "[encoded data removed]",
            "text/plain": [
              "<Figure size 432x288 with 1 Axes>"
            ]
          },
          "metadata": {
            "needs_background": "light"
          }
        }
      ]
    },
    {
      "cell_type": "code",
      "metadata": {
        "colab": {
          "base_uri": "https://localhost:8080/",
          "height": 296
        },
        "id": "anSyJBttcHCz",
        "outputId": "63046712-c88f-4bd5-874c-20aceea1c02c"
      },
      "source": [
        "plt.plot(Q2,'y')\n",
        "plt.plot(Q2n,'b')\n",
        "plt.xlabel('time')\n",
        "plt.ylabel('Q2')\n",
        "plt.legend([\"Q2desired\", \"Q2(PI control)actual\"], loc =\"upper left\")"
      ],
      "execution_count": null,
      "outputs": [
        {
          "output_type": "execute_result",
          "data": {
            "text/plain": [
              "<matplotlib.legend.Legend at 0x7f99e3d2d050>"
            ]
          },
          "metadata": {},
          "execution_count": 22
        },
        {
          "output_type": "display_data",
          "data": {
            "image/png": "[encoded data removed]",
            "text/plain": [
              "<Figure size 432x288 with 1 Axes>"
            ]
          },
          "metadata": {
            "needs_background": "light"
          }
        }
      ]
    },
    {
      "cell_type": "code",
      "metadata": {
        "colab": {
          "base_uri": "https://localhost:8080/",
          "height": 296
        },
        "id": "8h9VpvSOOWsr",
        "outputId": "fa6c1373-d666-48c5-95ce-76e226d08f28"
      },
      "source": [
        "plt.plot(Q3,'y')\n",
        "plt.plot(Q3n,'b')\n",
        "plt.xlabel('time')\n",
        "plt.ylabel('Q3')\n",
        "plt.legend([\"Q3desired\", \"Q3(PI control)actual\"], loc =\"upper left\")"
      ],
      "execution_count": null,
      "outputs": [
        {
          "output_type": "execute_result",
          "data": {
            "text/plain": [
              "<matplotlib.legend.Legend at 0x7f99e4355a50>"
            ]
          },
          "metadata": {},
          "execution_count": 23
        },
        {
          "output_type": "display_data",
          "data": {
            "image/png": "[encoded data removed]",
            "text/plain": [
              "<Figure size 432x288 with 1 Axes>"
            ]
          },
          "metadata": {
            "needs_background": "light"
          }
        }
      ]
    },
    {
      "cell_type": "markdown",
      "metadata": {
        "id": "3vDZzVAgtYbL"
      },
      "source": [
        "**DDOT-2C VERIFIER AND CALCULATOR**"
      ]
    },
    {
      "cell_type": "code",
      "metadata": {
        "colab": {
          "base_uri": "https://localhost:8080/",
          "height": 100
        },
        "id": "6H9NRs-jD8Ed",
        "outputId": "a09052cb-b962-4ba0-e239-db5316a1933e"
      },
      "source": [
        "from sympy.physics.vector import dynamicsymbols\n",
        "from sympy import diff, Symbol\n",
        "import sympy as sym\n",
        "from sympy import diff, sin, cos\n",
        "from scipy.integrate import odeint\n",
        "import scipy\n",
        "import scipy.integrate\n",
        "from scipy.integrate import solve_ivp\n",
        "import numpy as np\n",
        "import matplotlib.pyplot as plt\n",
        "a=10.333333333333332 \n",
        "b=7.666666666666666 \n",
        "g=6 \n",
        "d=1.3333333333333333\n",
        "GR=9.8\n",
        "m4=1\n",
        "l1=2\n",
        "l2=2\n",
        "l3=2\n",
        "#I1+I2 I2\n",
        "#I2 I2\n",
        "i1=1\n",
        "i2=1\n",
        "i3=1\n",
        "m1g=1\n",
        "m2g=1\n",
        "m3g=1\n",
        "sym.init_printing()\n",
        "q1, q2, q3,q1dot,q2dot,q3dot,q1ddot,q2ddot,q3ddot,T1,T2,T3,mG,t = sym.symbols('q1 q2 q3 q1dot q2dot q3dot q1ddot q2ddot q3ddot T1 T2 T3 mG t')\n",
        "q1,q2,q3,q1dot,q2dot,q3dot = dynamicsymbols('q1,q2,q3,q1dot,q2dot,q3dot')\n",
        "\n",
        "k1=sym.Matrix([q1,q2,q3])\n",
        "k2=sym.Matrix([diff(q1,t),diff(q2,t),diff(q3,t)])\n",
        "k3=sym.Matrix([q1ddot,q2ddot,q3ddot])\n",
        "VQ=m1g*l1/2+m2g*(l1)+m2g*(l2/2)*sym.sin(q2)+m3g*(l1+l2+l3/2)*sym.sin(q3+q2)\n",
        "X1=sym.diff(VQ,q1)\n",
        "X2=sym.diff(VQ,q2)\n",
        "X3=sym.diff(VQ,q3)\n",
        "GQ=sym.Matrix([X1,X2,X3])\n",
        "tau=sym.Matrix([T1,T2,T3])\n",
        "M=sym.Matrix([[0,0,0],[0,0,0],[0,0,0]]);\n",
        "X=M.T\n",
        "N=sym.Matrix([[0,0,0],[0,0,0],[0,0,0]]);\n",
        "Y=N.T\n",
        "O=sym.Matrix([[-l3*sym.sin(q1+q2)*sym.cos(q1),(l2-l3*sym.sin(q3))*sym.cos(q1+q2),-l3*sym.sin(q3)*cos(q1+q2)],[l3*sym.cos(q1+q2)*sym.cos(q1),(l2-l3*sym.sin(q3))*sym.sin(q1+q2),-l3*sym.sin(q3)*sin(q1+q2)],[0,-l3*sym.cos(q1),-l3*sym.cos(q1)]]);\n",
        "Z=O.T\n",
        "#FOR ROTATIONAL ENERGY CALCULATION\n",
        "M1=sym.Matrix([[0,0,0],[0,0,0],[1,0,0]]);\n",
        "X1=M1.T\n",
        "N1=sym.Matrix([[0,-sym.sin(q1+q2),-sym.sin(q1+q2)],[0,sym.cos(q1+q2),sym.cos(q1+q2)],[1,0,0]]);\n",
        "Y1=N1.T\n",
        "O1=sym.Matrix([[0,-sym.sin(q1+q2),-sym.sin(q1+q2)],[0,sym.cos(q1+q2),sym.cos(q1+q2)],[1,0,0]]);\n",
        "Z1=O1.T\n",
        "\n",
        "I=sym.Matrix([[i1,0,0],[0,i2,0],[0,0,i3]])\n",
        "\n",
        "DQ0=sym.simplify(X*M)+sym.simplify(Y*N)+sym.simplify(Z*O)\n",
        "DQ1=(sym.simplify(X1*M1)+sym.simplify(Y1*N1)+sym.simplify(Z1*O1))*I\n",
        "DQ=DQ0+DQ1\n",
        "no1=3\n",
        "\n",
        "CQQD= sym.Matrix([[0,0,0],[0,0,0],[0,0,0]])\n",
        "\n",
        "#Cqqd CALCULATOR\n",
        "for k in range(no1):\n",
        "    for j in range(no1):\n",
        "        su=0\n",
        "        for i in range(no1):\n",
        "            su+=((-sym.diff(DQ[k,i],k1[j])+sym.diff(DQ[i,j],k1[k])))*k2[i]\n",
        "            \n",
        "        CQQD[k,j]=su\n",
        "        \n",
        "        \n",
        "\n",
        "difF=sym.simplify(DQ.inv()*(CQQD*(k2)+GQ-tau))\n",
        "CQQD\n"
      ],
      "execution_count": null,
      "outputs": [
        {
          "output_type": "execute_result",
          "data": {
            "text/latex": "$\\displaystyle \\left[\\begin{matrix}0 & - 8 \\sin{\\left(\\operatorname{q_{1}}{\\left(t \\right)} \\right)} \\cos{\\left(\\operatorname{q_{1}}{\\left(t \\right)} \\right)} \\frac{d}{d t} \\operatorname{q_{2}}{\\left(t \\right)} - 8 \\sin{\\left(\\operatorname{q_{1}}{\\left(t \\right)} \\right)} \\cos{\\left(\\operatorname{q_{1}}{\\left(t \\right)} \\right)} \\frac{d}{d t} \\operatorname{q_{3}}{\\left(t \\right)} & - 8 \\sin{\\left(\\operatorname{q_{1}}{\\left(t \\right)} \\right)} \\cos{\\left(\\operatorname{q_{1}}{\\left(t \\right)} \\right)} \\frac{d}{d t} \\operatorname{q_{2}}{\\left(t \\right)} - 8 \\sin{\\left(\\operatorname{q_{1}}{\\left(t \\right)} \\right)} \\cos{\\left(\\operatorname{q_{1}}{\\left(t \\right)} \\right)} \\frac{d}{d t} \\operatorname{q_{3}}{\\left(t \\right)}\\\\8 \\sin{\\left(\\operatorname{q_{1}}{\\left(t \\right)} \\right)} \\cos{\\left(\\operatorname{q_{1}}{\\left(t \\right)} \\right)} \\frac{d}{d t} \\operatorname{q_{2}}{\\left(t \\right)} + 8 \\sin{\\left(\\operatorname{q_{1}}{\\left(t \\right)} \\right)} \\cos{\\left(\\operatorname{q_{1}}{\\left(t \\right)} \\right)} \\frac{d}{d t} \\operatorname{q_{3}}{\\left(t \\right)} & 0 & \\left(- 8 \\sin{\\left(\\operatorname{q_{3}}{\\left(t \\right)} \\right)} \\cos{\\left(\\operatorname{q_{3}}{\\left(t \\right)} \\right)} + 4 \\cos{\\left(\\operatorname{q_{3}}{\\left(t \\right)} \\right)}\\right) \\frac{d}{d t} \\operatorname{q_{3}}{\\left(t \\right)} + \\left(- 8 \\sin{\\left(\\operatorname{q_{3}}{\\left(t \\right)} \\right)} \\cos{\\left(\\operatorname{q_{3}}{\\left(t \\right)} \\right)} + 8 \\cos{\\left(\\operatorname{q_{3}}{\\left(t \\right)} \\right)}\\right) \\frac{d}{d t} \\operatorname{q_{2}}{\\left(t \\right)}\\\\8 \\sin{\\left(\\operatorname{q_{1}}{\\left(t \\right)} \\right)} \\cos{\\left(\\operatorname{q_{1}}{\\left(t \\right)} \\right)} \\frac{d}{d t} \\operatorname{q_{2}}{\\left(t \\right)} + 8 \\sin{\\left(\\operatorname{q_{1}}{\\left(t \\right)} \\right)} \\cos{\\left(\\operatorname{q_{1}}{\\left(t \\right)} \\right)} \\frac{d}{d t} \\operatorname{q_{3}}{\\left(t \\right)} & \\left(8 \\sin{\\left(\\operatorname{q_{3}}{\\left(t \\right)} \\right)} \\cos{\\left(\\operatorname{q_{3}}{\\left(t \\right)} \\right)} - 8 \\cos{\\left(\\operatorname{q_{3}}{\\left(t \\right)} \\right)}\\right) \\frac{d}{d t} \\operatorname{q_{2}}{\\left(t \\right)} + \\left(8 \\sin{\\left(\\operatorname{q_{3}}{\\left(t \\right)} \\right)} \\cos{\\left(\\operatorname{q_{3}}{\\left(t \\right)} \\right)} - 4 \\cos{\\left(\\operatorname{q_{3}}{\\left(t \\right)} \\right)}\\right) \\frac{d}{d t} \\operatorname{q_{3}}{\\left(t \\right)} & 0\\end{matrix}\\right]$",
            "text/plain": [
              "⎡                                                                             \n",
              "⎢                                  0                                          \n",
              "⎢                                                                             \n",
              "⎢                                                                             \n",
              "⎢                        d                                   d                \n",
              "⎢8⋅sin(q₁(t))⋅cos(q₁(t))⋅──(q₂(t)) + 8⋅sin(q₁(t))⋅cos(q₁(t))⋅──(q₃(t))        \n",
              "⎢                        dt                                  dt               \n",
              "⎢                                                                             \n",
              "⎢                        d                                   d                \n",
              "⎢8⋅sin(q₁(t))⋅cos(q₁(t))⋅──(q₂(t)) + 8⋅sin(q₁(t))⋅cos(q₁(t))⋅──(q₃(t))  (8⋅sin\n",
              "⎣                        dt                                  dt               \n",
              "\n",
              "                                    d                                   d     \n",
              "          - 8⋅sin(q₁(t))⋅cos(q₁(t))⋅──(q₂(t)) - 8⋅sin(q₁(t))⋅cos(q₁(t))⋅──(q₃(\n",
              "                                    dt                                  dt    \n",
              "                                                                              \n",
              "                                                                              \n",
              "                                             0                                \n",
              "                                                                              \n",
              "                                                                              \n",
              "                                   d                                          \n",
              "(q₃(t))⋅cos(q₃(t)) - 8⋅cos(q₃(t)))⋅──(q₂(t)) + (8⋅sin(q₃(t))⋅cos(q₃(t)) - 4⋅co\n",
              "                                   dt                                         \n",
              "\n",
              "                                                                d             \n",
              "t))                                   - 8⋅sin(q₁(t))⋅cos(q₁(t))⋅──(q₂(t)) - 8⋅\n",
              "                                                                dt            \n",
              "                                                                              \n",
              "                                                               d              \n",
              "                     (-8⋅sin(q₃(t))⋅cos(q₃(t)) + 4⋅cos(q₃(t)))⋅──(q₃(t)) + (-8\n",
              "                                                               dt             \n",
              "                                                                              \n",
              "          d                                                                   \n",
              "s(q₃(t)))⋅──(q₃(t))                                                      0    \n",
              "          dt                                                                  \n",
              "\n",
              "                      d                         ⎤\n",
              "sin(q₁(t))⋅cos(q₁(t))⋅──(q₃(t))                 ⎥\n",
              "                      dt                        ⎥\n",
              "                                                ⎥\n",
              "                                       d        ⎥\n",
              "⋅sin(q₃(t))⋅cos(q₃(t)) + 8⋅cos(q₃(t)))⋅──(q₂(t))⎥\n",
              "                                       dt       ⎥\n",
              "                                                ⎥\n",
              "                                                ⎥\n",
              "                                                ⎥\n",
              "                                                ⎦"
            ]
          },
          "metadata": {},
          "execution_count": 7
        }
      ]
    },
    {
      "cell_type": "markdown",
      "metadata": {
        "id": "O5Dx3N_EtMdU"
      },
      "source": [
        "**DDOT-2C VERIFICATION AS A SKEW SYMMETRIC MATRIX**"
      ]
    },
    {
      "cell_type": "code",
      "metadata": {
        "colab": {
          "base_uri": "https://localhost:8080/",
          "height": 80
        },
        "id": "6um1M79lS5X4",
        "outputId": "016cf2e0-dde2-4b19-e817-edbcc9f8202a"
      },
      "source": [
        "sym.simplify(CQQD)"
      ],
      "execution_count": null,
      "outputs": [
        {
          "output_type": "execute_result",
          "data": {
            "text/latex": "$\\displaystyle \\left[\\begin{matrix}0 & - 4 \\left(\\frac{d}{d t} \\operatorname{q_{2}}{\\left(t \\right)} + \\frac{d}{d t} \\operatorname{q_{3}}{\\left(t \\right)}\\right) \\sin{\\left(2 \\operatorname{q_{1}}{\\left(t \\right)} \\right)} & - 4 \\left(\\frac{d}{d t} \\operatorname{q_{2}}{\\left(t \\right)} + \\frac{d}{d t} \\operatorname{q_{3}}{\\left(t \\right)}\\right) \\sin{\\left(2 \\operatorname{q_{1}}{\\left(t \\right)} \\right)}\\\\4 \\left(\\frac{d}{d t} \\operatorname{q_{2}}{\\left(t \\right)} + \\frac{d}{d t} \\operatorname{q_{3}}{\\left(t \\right)}\\right) \\sin{\\left(2 \\operatorname{q_{1}}{\\left(t \\right)} \\right)} & 0 & - 4 \\left(2 \\left(\\sin{\\left(\\operatorname{q_{3}}{\\left(t \\right)} \\right)} - 1\\right) \\frac{d}{d t} \\operatorname{q_{2}}{\\left(t \\right)} + \\left(2 \\sin{\\left(\\operatorname{q_{3}}{\\left(t \\right)} \\right)} - 1\\right) \\frac{d}{d t} \\operatorname{q_{3}}{\\left(t \\right)}\\right) \\cos{\\left(\\operatorname{q_{3}}{\\left(t \\right)} \\right)}\\\\4 \\left(\\frac{d}{d t} \\operatorname{q_{2}}{\\left(t \\right)} + \\frac{d}{d t} \\operatorname{q_{3}}{\\left(t \\right)}\\right) \\sin{\\left(2 \\operatorname{q_{1}}{\\left(t \\right)} \\right)} & 4 \\left(2 \\left(\\sin{\\left(\\operatorname{q_{3}}{\\left(t \\right)} \\right)} - 1\\right) \\frac{d}{d t} \\operatorname{q_{2}}{\\left(t \\right)} + \\left(2 \\sin{\\left(\\operatorname{q_{3}}{\\left(t \\right)} \\right)} - 1\\right) \\frac{d}{d t} \\operatorname{q_{3}}{\\left(t \\right)}\\right) \\cos{\\left(\\operatorname{q_{3}}{\\left(t \\right)} \\right)} & 0\\end{matrix}\\right]$",
            "text/plain": [
              "⎡                                                            ⎛d           d   \n",
              "⎢                  0                                      -4⋅⎜──(q₂(t)) + ──(q\n",
              "⎢                                                            ⎝dt          dt  \n",
              "⎢                                                                             \n",
              "⎢  ⎛d           d        ⎞                                                    \n",
              "⎢4⋅⎜──(q₂(t)) + ──(q₃(t))⎟⋅sin(2⋅q₁(t))                                      0\n",
              "⎢  ⎝dt          dt       ⎠                                                    \n",
              "⎢                                                                             \n",
              "⎢  ⎛d           d        ⎞                 ⎛                   d              \n",
              "⎢4⋅⎜──(q₂(t)) + ──(q₃(t))⎟⋅sin(2⋅q₁(t))  4⋅⎜2⋅(sin(q₃(t)) - 1)⋅──(q₂(t)) + (2⋅\n",
              "⎣  ⎝dt          dt       ⎠                 ⎝                   dt             \n",
              "\n",
              "     ⎞                                                      ⎛d           d    \n",
              "₃(t))⎟⋅sin(2⋅q₁(t))                                      -4⋅⎜──(q₂(t)) + ──(q₃\n",
              "     ⎠                                                      ⎝dt          dt   \n",
              "                                                                              \n",
              "                                          ⎛                   d               \n",
              "                                       -4⋅⎜2⋅(sin(q₃(t)) - 1)⋅──(q₂(t)) + (2⋅s\n",
              "                                          ⎝                   dt              \n",
              "                                                                              \n",
              "                d        ⎞                                                    \n",
              "sin(q₃(t)) - 1)⋅──(q₃(t))⎟⋅cos(q₃(t))                                       0 \n",
              "                dt       ⎠                                                    \n",
              "\n",
              "    ⎞                               ⎤\n",
              "(t))⎟⋅sin(2⋅q₁(t))                  ⎥\n",
              "    ⎠                               ⎥\n",
              "                                    ⎥\n",
              "               d        ⎞           ⎥\n",
              "in(q₃(t)) - 1)⋅──(q₃(t))⎟⋅cos(q₃(t))⎥\n",
              "               dt       ⎠           ⎥\n",
              "                                    ⎥\n",
              "                                    ⎥\n",
              "                                    ⎥\n",
              "                                    ⎦"
            ]
          },
          "metadata": {},
          "execution_count": 8
        }
      ]
    }
  ]
}