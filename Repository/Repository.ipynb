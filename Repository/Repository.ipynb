{
  "nbformat": 4,
  "nbformat_minor": 0,
  "metadata": {
    "colab": {
      "name": "Repository.ipynb",
      "provenance": []
    },
    "kernelspec": {
      "name": "python3",
      "display_name": "Python 3"
    },
    "language_info": {
      "name": "python"
    }
  },
  "cells": [
    {
      "cell_type": "markdown",
      "metadata": {
        "id": "dasr70YvGa95"
      },
      "source": [
        "\n",
        "\n",
        "**REPOSITORY FOR INTRODUCTION TO ROBOTICS**\n",
        "\n",
        "**2R Manipulator - Fixed Axis**\n",
        "\n",
        "Codes by Rohan, Aarish, Jaydeep K, Vaishnavi, Suraj\n",
        "\n"
      ]
    },
    {
      "cell_type": "code",
      "metadata": {
        "id": "cMerFOEjKxzc"
      },
      "source": [
        "import numpy as np"
      ],
      "execution_count": null,
      "outputs": []
    },
    {
      "cell_type": "code",
      "metadata": {
        "id": "MUM-Z6z6GZcw"
      },
      "source": [
        "# Forward Kinematics 2R Planar Fixed Axis\n",
        "def forward_kinematics(q1, q2, l1, l2):\n",
        "    x1 = l1 * np.cos(q1)\n",
        "    y1 = l1 * np.sin(q1)\n",
        "    x2 = l1 * np.cos(q1) + l2 * np.cos(q2)  # l2*np.cos(q2+q1) will be second term if q2 measured from link1\n",
        "    y2 = l1 * np.sin(q1) + l2 * np.sin(q2)  # l2*np.sin(q2+q1) will be second term if q2 measured from link1\n",
        "    return x1, y1, x2, y2\n",
        "\n",
        "# Inverse Kinematics 2R Planar Fixed Axis\n",
        "def inverse_kinematics(x, y, l1, l2, elbow):  # elbow parameter = 1 or -1 for elbow down and up configurations\n",
        "    D = (x ** 2 + y ** 2 - l1 ** 2 - l2 ** 2) / (2 * l1 * l2)\n",
        "    if elbow == 1:\n",
        "        D = (x ** 2 + y ** 2 - l1 ** 2 - l2 ** 2) / (2 * l1 * l2)\n",
        "        q2 = elbow * np.arctan2(np.sqrt(1 - D ** 2), D)  # q2 as measured from frame of link 1\n",
        "        q1 = np.arctan2(y, x) - np.arctan2(l2 * np.sin(q2), l1 + l2 * np.cos(q2))\n",
        "        q2 = q2 + q1  # if q2 is not measured from inertial frame then remove this line\n",
        "    if elbow == -1:\n",
        "        q2 = elbow * np.arctan2(np.sqrt(1 - D ** 2), D)  # q2 as measured from frame of link 1\n",
        "        q1 = np.arctan2(y, x) - np.arctan2(l2 * np.sin(q2), l1 + l2 * np.cos(q2))\n",
        "        q2 = q2 + q1  # if q2 is not measured from inertial frame then remove this line\n",
        "    return q1, q2\n"
      ],
      "execution_count": null,
      "outputs": []
    },
    {
      "cell_type": "markdown",
      "metadata": {
        "id": "7nkafhElHLr_"
      },
      "source": [
        ""
      ]
    },
    {
      "cell_type": "markdown",
      "metadata": {
        "id": "s38F0mJzHlYS"
      },
      "source": [
        "**SCARA**"
      ]
    },
    {
      "cell_type": "code",
      "metadata": {
        "id": "Lesf3R6FHno-"
      },
      "source": [
        "  def scara_invkin(x,y,z,d1,d2):\n",
        "    # using formulae from the textbook\n",
        "    r = abs((self.x**2+self.y**2-self.d1**2-self.d2**2)/(2*self.d1*self.d2))\n",
        "    theta2 = np.arctan(np.sqrt(abs(1-r**2))/r)\n",
        "    theta1 = np.arctan(self.y/self.x) - np.arctan((self.d2*np.sin(theta2))/(self.d1+self.d2*np.cos(theta2)))\n",
        "    d3 = -self.z\n",
        "    # converting from radians to degrees\n",
        "    theta1 = theta1*180/np.pi\n",
        "    theta2 = theta2*180/np.pi"
      ],
      "execution_count": null,
      "outputs": []
    },
    {
      "cell_type": "markdown",
      "metadata": {
        "id": "GWEnKZlGHoU-"
      },
      "source": [
        "**Stanford**"
      ]
    },
    {
      "cell_type": "code",
      "metadata": {
        "colab": {
          "base_uri": "https://localhost:8080/"
        },
        "id": "NyuZEnmOHrB5",
        "outputId": "26a6be20-0780-4cb7-888d-a58dd29abfc6"
      },
      "source": [
        " \n",
        "def inverse_kinematics(endeffector_position,lengthsoflinks):\n",
        "    theta1 = np.arctan(endeffector_position[1]/endeffector_position[0])\n",
        "    r = np.sqrt(endeffector_position[0]**2 + endeffector_position[1]**2)\n",
        "    s = endeffector_position[2] - lengthsoflinks[0]\n",
        "    theta2 = np.arctan(s/r)\n",
        "    d3 = np.sqrt(r**2 + s**2) - lengthsoflinks[1]\n",
        "    print(\"First Solution: \\n\", \"Theta1 = \", theta1, \"\\n Theta2 =\", theta2,\"\\n Extension: \", d3, \"\\n\")\n",
        "    print(\"Second Solution: \\n\", \"Theta1 = \", np.pi + theta1, \"\\n Theta2 =\", np.pi - theta2,\"\\n Extension:\", d3)\n",
        "\n",
        "inverse_kinematics([30,30,30],[10,10])"
      ],
      "execution_count": null,
      "outputs": [
        {
          "output_type": "stream",
          "name": "stdout",
          "text": [
            "First Solution: \n",
            " Theta1 =  0.7853981633974483 \n",
            " Theta2 = 0.4405106630046985 \n",
            " Extension:  36.9041575982343 \n",
            "\n",
            "Second Solution: \n",
            " Theta1 =  3.9269908169872414 \n",
            " Theta2 = 2.7010819905850947 \n",
            " Extension: 36.9041575982343\n"
          ]
        }
      ]
    },
    {
      "cell_type": "markdown",
      "metadata": {
        "id": "nKz5YkoFIaSO"
      },
      "source": [
        "**Articulated**"
      ]
    },
    {
      "cell_type": "code",
      "metadata": {
        "id": "kuEiTmoSIdu4"
      },
      "source": [
        "def inverse_kinematics(l1,l2,l3,xc,yc,zc):\n",
        "    theta1 = np.rad2deg(math.atan2(yc,xc))\n",
        "    D = (xc*xc+yc*yc+(zc-l1)*(zc-l1)-l2*l2-l3*l3)/(2*l2*l3)\n",
        "    if D>=1 or D<=-1:\n",
        "        print(\"singular configuration\")\n",
        "    if D>1 or D<-1:\n",
        "        print(\"outside workspace\")\n",
        "    theta3 = (math.atan2((-math.sqrt(1-D*D)),D))\n",
        "    theta2 = np.rad2deg(math.atan2(zc-l1,(math.sqrt(xc*xc+yc*yc)))-math.atan2((l3*math.sin(theta3)),(l2+l3*math.cos(theta3))))\n",
        "    theta3 = np.rad2deg(theta3)\n",
        "    return theta1,theta2,theta3"
      ],
      "execution_count": null,
      "outputs": []
    },
    {
      "cell_type": "markdown",
      "metadata": {
        "id": "fXwCCrCnIeti"
      },
      "source": [
        "**Spherical Wrist**"
      ]
    },
    {
      "cell_type": "code",
      "metadata": {
        "id": "R6s3MMK8IitB"
      },
      "source": [
        "  def inverse_kinematics(rotation_matrix):\n",
        "    rotation_matrix = np.reshape(rotation_matrix, (3,3))\n",
        "    theta1 = np.arctan2(np.sqrt(abs(1 - rotation_matrix[2,2]**2)), rotation_matrix[2,2])\n",
        "    theta2 = np.arctan2(-np.sqrt(abs(1 - rotation_matrix[2,2]**2)), rotation_matrix[2,2])\n",
        "    phi1 = np.arctan2(rotation_matrix[1,2], rotation_matrix[0,2])\n",
        "    phi2 = np.arctan2(-rotation_matrix[1,2], -rotation_matrix[0,2])\n",
        "    psi1 = np.arctan2(-rotation_matrix[2,0], rotation_matrix[2,1])\n",
        "    psi2 = np.arctan2(rotation_matrix[2,0], -rotation_matrix[2,1])\n",
        "    print(\"First Solution: \\n\", \"theta = \", theta1, \"\\n phi = \", phi1, \"\\n psi = \", psi1)\n",
        "    print(\"Second Solution: \\n\", \"theta = \", theta2, \"\\n phi = \", phi2, \"\\n psi = \", psi2)"
      ],
      "execution_count": null,
      "outputs": []
    },
    {
      "cell_type": "markdown",
      "metadata": {
        "id": "bqC2OmXRHp_z"
      },
      "source": [
        "**Homogenous Matrices Forward Kinematics from DH**"
      ]
    },
    {
      "cell_type": "code",
      "metadata": {
        "colab": {
          "base_uri": "https://localhost:8080/"
        },
        "id": "KAq4i8mWIDls",
        "outputId": "977c243a-d809-45ad-b4d2-3fb4ed9fe586"
      },
      "source": [
        "# Link Parameters:    [a, alpha, d, theta]\n",
        "# For Multiple Links: [[a, alpha, d, theta]\n",
        "#                      [a, alpha, d, theta]\n",
        "#                      [a, alpha, d, theta]]\n",
        "\n",
        "def atransformation(LinkParameters):\n",
        "    a = LinkParameters[0]\n",
        "    d = LinkParameters[2]\n",
        "    alpha = LinkParameters[1]\n",
        "    theta = LinkParameters[3]\n",
        "    A = np.array([[[np.cos(theta), -np.sin(theta) * np.cos(alpha), np.sin(theta) * np.sin(alpha), a * np.cos(theta)],\n",
        "                   [np.sin(theta), np.cos(theta) * np.cos(alpha), -np.cos(theta) * np.sin(alpha), a * np.sin(theta)],\n",
        "                   [0, np.sin(alpha), np.cos(alpha), d],\n",
        "                   [0, 0, 0, 1]]])\n",
        "    return (A)\n",
        "a = 1\n",
        "d = 0\n",
        "alpha = 0\n",
        "theta = np.pi/4\n",
        "LinkParameters = [a, alpha, d, theta]\n",
        "# Example\n",
        "A = atransformation(LinkParameters)\n",
        "print(A)\n",
        "\n",
        "def forward_kinematics_homogenous_matrix(DH):\n",
        "    A = np.identity(4)\n",
        "    n = np.shape(DH)[0]\n",
        "\n",
        "    for i in range(n):\n",
        "        Anext = atransformation(DH[i])\n",
        "        A = np.matmul(A,Anext)\n",
        "\n",
        "    return A\n",
        "# Example\n",
        "LinkParameters = [[1, 0, 0, np.pi/2],[1, 0, 0, np.pi/4]]\n",
        "T = forward_kinematics(LinkParameters)\n",
        "print(T)"
      ],
      "execution_count": null,
      "outputs": [
        {
          "output_type": "stream",
          "name": "stdout",
          "text": [
            "[[[ 0.70710678 -0.70710678  0.          0.70710678]\n",
            "  [ 0.70710678  0.70710678 -0.          0.70710678]\n",
            "  [ 0.          0.          1.          0.        ]\n",
            "  [ 0.          0.          0.          1.        ]]]\n",
            "[[[-0.70710678 -0.70710678  0.         -0.70710678]\n",
            "  [ 0.70710678 -0.70710678  0.          1.70710678]\n",
            "  [ 0.          0.          1.          0.        ]\n",
            "  [ 0.          0.          0.          1.        ]]]\n"
          ]
        }
      ]
    },
    {
      "cell_type": "code",
      "metadata": {
        "id": "I6-DgFgBpwDo"
      },
      "source": [
        ""
      ],
      "execution_count": null,
      "outputs": []
    },
    {
      "cell_type": "markdown",
      "metadata": {
        "id": "8-9bIP12pwoa"
      },
      "source": [
        "**Jacobian from DH 1**"
      ]
    },
    {
      "cell_type": "code",
      "metadata": {
        "id": "YU-H7OLfpw-s"
      },
      "source": [
        "import numpy as np\n",
        "import sys\n",
        "import sympy as sym\n",
        "\n",
        "class manipulator():\n",
        "\n",
        "  def __init__(self, no_of_links, type_of_joints, dh_params):\n",
        "    super().__init__()\n",
        "    self.no_of_links = no_of_links\n",
        "    self.type_of_joints = list(type_of_joints)\n",
        "    self.dh_params = dh_params\n",
        "    if len(self.dh_params) != self.no_of_links:\n",
        "      print(\"ERROR: Please make sure the number of rows in the DH parameters provided is equal to the number of links.\")\n",
        "      sys.exit()\n",
        "    self.dh_matrices = []\n",
        "    for i in range(0, self.no_of_links):    \n",
        "      temp = self.dh_params[i]\n",
        "      theta = temp[0]\n",
        "      d = temp[1]\n",
        "      a = temp[2]\n",
        "      alpha = temp[3]\n",
        "      A1 = np.array([[np.cos(theta), -np.sin(theta), 0, 0],[np.sin(theta), np.cos(theta), 0, 0],[0, 0, 1, 0],[0, 0, 0, 1]])\n",
        "      A2 = np.array([[1, 0, 0, 0],[0, 1, 0, 0],[0, 0, 1, d],[0, 0, 0, 1]])\n",
        "      A3 = np.array([[1, 0, 0, a],[0, 1, 0, 0],[0, 0, 1, 0],[0, 0, 0, 1]])\n",
        "      A4 = np.array([[1, 0, 0, 0],[0, np.cos(alpha), -np.sin(alpha), 0],[0, np.sin(alpha), np.cos(alpha), 0],[0, 0, 0, 1]])\n",
        "      A_final = A1@A2@A3@A4\n",
        "      self.dh_matrices.append(A_final)\n",
        "    self.dh_matrices = np.array(self.dh_matrices)\n",
        "\n",
        "    self.transform_matrices = []\n",
        "    self.rotation_matrices = []\n",
        "\n",
        "    for i in range(1, self.no_of_links+1):\n",
        "      temp = self.dh_matrices[0]\n",
        "      for j in range(1, i):\n",
        "        temp = temp@self.dh_matrices[j]\n",
        "      rot_temp = temp\n",
        "      rot_temp = np.delete(rot_temp, (3), axis = 0)\n",
        "      rot_temp = np.delete(rot_temp, (3), axis = 1)\n",
        "      self.transform_matrices.append(temp)\n",
        "      self.rotation_matrices.append(rot_temp)\n",
        "\n",
        "    self.transform_matrices = np.array(self.transform_matrices)\n",
        "    self.rotation_matrices = np.array(self.rotation_matrices)\n",
        "\n",
        "    self.end_effector_posn = np.delete(self.transform_matrices[len(self.transform_matrices)-1]@np.array([[0],[0],[0],[1]]), (3), axis = 0)\n",
        "\n",
        "    self.z = []\n",
        "    self.origins = []\n",
        "    self.z.append(np.array([[0],[0],[1]]))\n",
        "    self.origins.append(np.array([[0],[0],[0]]))\n",
        "\n",
        "    for i in range(0, self.no_of_links):\n",
        "      temp_z = self.rotation_matrices[i]@np.array([[0],[0],[1]])\n",
        "      self.z.append(temp_z)\n",
        "      temp_origin = self.transform_matrices[i]@np.array([[0],[0],[0],[1]])\n",
        "      temp_origin = np.delete(temp_origin, (3), axis = 0)\n",
        "      self.origins.append(temp_origin)\n",
        "    \n",
        "    self.z = np.array(self.z)\n",
        "    self.origins = np.array(self.origins)  \n",
        "    self.jacobian = []\n",
        "    for i in range(0,self.no_of_links):\n",
        "      if self.type_of_joints[i] == \"R\":\n",
        "        temp_1 = np.cross(self.z[i], self.end_effector_posn-self.origins[i], axis = 0)\n",
        "        temp_2 = self.z[i]\n",
        "      if self.type_of_joints[i] == \"P\":\n",
        "        temp_1 = self.z[i]\n",
        "        temp_2 = np.array([[0],[0],[0]])\n",
        "      temp_jacobian = np.vstack((temp_1, temp_2))\n",
        "      self.jacobian.append(temp_jacobian)\n",
        "    self.jacobian = np.array(self.jacobian)\n",
        "    self.jacobian = self.jacobian.reshape((self.no_of_links,6))\n",
        "    self.jacobian = np.transpose(self.jacobian)\n",
        "    self.Jv = np.delete(self.jacobian,(3,4,5), axis = 0)\n",
        "\n",
        "    print(\"End Effector Position:\")\n",
        "    print(self.end_effector_posn)\n",
        "    print(\"Manipulator Jacobian:\")\n",
        "    print(self.jacobian)\n",
        "    print(\"Velocity Jacobian (can be multiplied with qdot to obtain end-effector velocity):\")\n",
        "    print(self.Jv)\n",
        "\n",
        "my_robot = manipulator(3, \"RRR\", [[np.pi/3,0,1,0],[0,0,0,np.pi/2],[0,0,0,np.pi/2]])\n",
        "print(\"STANFORD MANIPULATOR:\")\n",
        "stanford_manipulator = manipulator(3, \"RRP\", [[0,0,0,-np.pi/2],[0,2,0,np.pi/2],[0,2,0,0]])\n",
        "print(\"SCARA MANIPULATOR:\")\n",
        "SCARA = manipulator(3, \"RRP\", [[0,0,2,0],[0,0,2,np.pi],[0,2,0,0]])\n",
        "print(\"PPP MANIPULATOR:\")\n",
        "PPP = manipulator(3, \"PPP\", [[0,1,0,-np.pi/2],[-np.pi/2,2,0,-np.pi/2],[0,3,0,0]])\n",
        "print(\"6R MANIPULATOR:\")\n",
        "R6 = manipulator(6, \"RRRRRR\", [[np.pi/2,1,0,-np.pi/2],[0,0,1,0],[0,0,1,np.pi/2],[0,0,0,np.pi/2],[0,0,0,-np.pi/2],[0,1,0,0]])"
      ],
      "execution_count": null,
      "outputs": []
    },
    {
      "cell_type": "markdown",
      "metadata": {
        "id": "mRPiscPNIHB9"
      },
      "source": [
        "**Jacobian from DH 2**\n",
        "\n"
      ]
    },
    {
      "cell_type": "code",
      "metadata": {
        "colab": {
          "base_uri": "https://localhost:8080/"
        },
        "id": "RhMtjI02TX0d",
        "outputId": "c45307cc-2e7d-4d31-cf1c-0c8fbc6b1779"
      },
      "source": [
        "# Importing Libraries\n",
        "import numpy as np\n",
        "import matplotlib.pyplot as plt\n",
        "\n",
        "# Creating Class Robot and defining functions\n",
        "class Robot():\n",
        "  def __init__(self, numberoflinks, DH_matrix,joint_types=-1):\n",
        "    self.numberoflinks = numberoflinks\n",
        "    self.DH_matrix = DH_matrix\n",
        "    if(joint_types == -1):\n",
        "      self.joint_types = [1]*numberoflinks\n",
        "    else:\n",
        "      self.joint_types = joint_types\n",
        "\n",
        "  def transform_matrix(self):\n",
        "    self.A = []\n",
        "    self.R = []\n",
        "    for i in range(self.numberoflinks):\n",
        "      self.A.append(np.array([[np.cos(self.DH_matrix[i][0]), -np.sin(self.DH_matrix[i][0]) * np.cos(self.DH_matrix[i][3]), np.sin(self.DH_matrix[i][0]) * np.sin(self.DH_matrix[i][3]), self.DH_matrix[i][2] * np.cos(self.DH_matrix[i][0])],[np.sin(self.DH_matrix[i][0]), np.cos(self.DH_matrix[i][0]) * np.cos(self.DH_matrix[i][3]), -np.cos(self.DH_matrix[i][0]) * np.sin(self.DH_matrix[i][3]), self.DH_matrix[i][2] * np.sin(self.DH_matrix[i][0])],[0, np.sin(self.DH_matrix[i][3]), np.cos(self.DH_matrix[i][3]), self.DH_matrix[i][1]],[0, 0, 0, 1]])) \n",
        "      self.R.append(np.array([[np.cos(self.DH_matrix[i][0]), -np.sin(self.DH_matrix[i][0]) * np.cos(self.DH_matrix[i][3]), np.sin(self.DH_matrix[i][0]) * np.sin(self.DH_matrix[i][3])],[np.sin(self.DH_matrix[i][0]), np.cos(self.DH_matrix[i][0]) * np.cos(self.DH_matrix[i][3]), -np.cos(self.DH_matrix[i][0]) * np.sin(self.DH_matrix[i][3])],[0, np.sin(self.DH_matrix[i][3]), np.cos(self.DH_matrix[i][3])]]))\n",
        "    self.A = np.array(self.A) # Array of Homogenous Transformation Matrices\n",
        "    self.R = np.array(self.R) # Array of Rotation matrices\n",
        "    \n",
        "    # Creating array of R_0_n matrices (R01, R02, R03, R04 ...)\n",
        "    self.R_0_n = []\n",
        "    A = np.identity(3)\n",
        "    for i in range(self.numberoflinks):\n",
        "      self.R_0_n.append(A)\n",
        "      A = np.matmul(A, self.R[i])\n",
        "    self.R_0_n.append(A)\n",
        "    self.R_0_n = np.array(self.R_0_n)\n",
        "\n",
        "    # Creating array of H_0_n matrices (H01, H02, H03, H04 ...)\n",
        "    self.H_0_n = []\n",
        "    B = np.identity(4)\n",
        "    for i in range(self.numberoflinks):\n",
        "      self.H_0_n.append(B)\n",
        "      B = np.matmul(B, self.A[i])\n",
        "    self.H_0_n.append(B)\n",
        "    self.H_0_n = np.array(self.H_0_n)\n",
        "    \n",
        "    # Calculating Final Transfornation Matrix\n",
        "    T = np.asmatrix(np.identity(4))\n",
        "    for j in range(self.numberoflinks):\n",
        "        T = T * np.asmatrix(self.A[j]) #,dtype = 'int' for integer output\n",
        "    self.T = T\n",
        "    # print (\"A Matrices are: \\n\", self.A)\n",
        "    # print (\"Final Transformation Matrix: \\n\",T)\n",
        "    # print (\"Rotation Matrices are: \\n\", self.R)\n",
        "    # print (\"Rotation Matrices w.r.t base frame are: \\n\", self.R_0_n)\n",
        "  \n",
        "  def manipulator_jacobian(self):\n",
        "    # Creating z terms\n",
        "    self.z = []\n",
        "    k = np.array([[0],[0],[1]])\n",
        "    for i in range(self.numberoflinks+1):\n",
        "      self.z.append(np.matmul(self.R_0_n[i],k))\n",
        "    self.z = np.array(self.z)\n",
        "\n",
        "    # Creating O terms\n",
        "    d = np.array([[0],[0],[0],[1]])\n",
        "    self.O = np.matmul(self.H_0_n,d)[:self.numberoflinks+1]\n",
        "    self.On = np.delete(self.O,(3),axis=1)\n",
        "\n",
        "    # Creating Jacobian Manipulator (Here J1 will be 0th element of array J and so on)\n",
        "    self.J = []\n",
        "    for i in range(self.numberoflinks):\n",
        "      if self.joint_types[i] == 1:\n",
        "        X = self.On[-1] - self.On[i]\n",
        "        J_v = np.cross(self.z[i], X,axis = 0)\n",
        "        J_v = np.vstack((J_v, self.z[i]))\n",
        "        self.J.append(J_v)\n",
        "      else:\n",
        "        J_v = np.vstack((self.z[i], np.array([[0],[0],[0]])))\n",
        "        self.J.append(J_v)\n",
        "    self.J = np.array(self.J)\n",
        "    self.J_v = np.delete(self.J, (3,4,5), axis = 1)\n",
        "    print (\"Manipulator Jacobian: \\n\", self.J)\n",
        "    # print (\"End effector position: \\n\", self.On[-1])\n",
        "    # print (\"End effector velocity: \\n\", \"v = \", self.J_v, \" x q_dot\")\n",
        "\n",
        "  def joint_velocities(self, xdot, ydot, zdot):\n",
        "    X_dot  =np.array([[xdot],[ydot],[zdot]])\n",
        "    J_v = self.J_v.reshape((3,3))\n",
        "    Jacobian_Rank = np.linalg.matrix_rank(J_v)\n",
        "    Augmentedmatrix_Rank = np.linalg.matrix_rank(np.hstack((J_v, X_dot)))\n",
        "    if Jacobian_Rank != Augmentedmatrix_Rank:\n",
        "      print(\"ERROR: Velocities provided are not possible for the given configuration\")\n",
        "      sys.exit()\n",
        "    else:\n",
        "      q_dot = np.linalg.pinv(J_v) @ X_dot\n",
        "      print(\"Joint Velocities are given by: \\n\", q_dot)\n",
        "\n",
        "# Initializing object \"robot\" and calculating result\n",
        "# Mention the number of links in the first input\n",
        "# Enter the DH table row wise in the order: [THETA, D, A, ALPHA]\n",
        "# Enter Rho values for each link: 1 for Revolute and 0 for Prismatic\n",
        "robot = Robot(2,[[0, 0, 1, 0],[0, 0, 1, 0]],joint_types = [0,0])\n",
        "robot.transform_matrix()\n",
        "robot.manipulator_jacobian()\n",
        "\n"
      ],
      "execution_count": null,
      "outputs": [
        {
          "output_type": "stream",
          "name": "stdout",
          "text": [
            "Manipulator Jacobian: \n",
            " [[[0.]\n",
            "  [0.]\n",
            "  [1.]\n",
            "  [0.]\n",
            "  [0.]\n",
            "  [0.]]\n",
            "\n",
            " [[0.]\n",
            "  [0.]\n",
            "  [1.]\n",
            "  [0.]\n",
            "  [0.]\n",
            "  [0.]]]\n"
          ]
        }
      ]
    },
    {
      "cell_type": "markdown",
      "metadata": {
        "id": "uoVJhPzZrhoN"
      },
      "source": [
        "**Dynamics from D and V matrix**"
      ]
    },
    {
      "cell_type": "code",
      "metadata": {
        "colab": {
          "base_uri": "https://localhost:8080/"
        },
        "id": "koA74yhWrotL",
        "outputId": "785fbc56-ef53-4bb1-b30c-ae1b776f9400"
      },
      "source": [
        "import numpy as np\n",
        "import sympy as sp\n",
        "import matplotlib.pyplot as plt\n",
        "\n",
        "# Creating Class Robot and defining functions\n",
        "class Robot():\n",
        "  def __init__(self, numberoflinks, D_q, V_q):\n",
        "    self.numberoflinks = numberoflinks\n",
        "    self.D_q = D_q\n",
        "    self.V_q = V_q\n",
        "\n",
        "  def derive_equations(self):\n",
        "    Phi = [0] * self.numberoflinks # Creating phi matrix\n",
        "    c = [[[0] * self.numberoflinks] * self.numberoflinks] * self.numberoflinks # Creating c matrix\n",
        "    T = [0] * self.numberoflinks # Matrix to store torque values for each link\n",
        "    d = 0\n",
        "    ct = 0\n",
        "\n",
        "    # Calculating Christoffer Symbols\n",
        "    for k in range(self.numberoflinks):\n",
        "      for j in range(self.numberoflinks):\n",
        "        for i in range(self.numberoflinks):\n",
        "          c[i][j][k] = 0.5 * (sp.diff(self.D_q[k][j], q[i]) + sp.diff(self.D_q[k][i], q[j]) - sp.diff(self.D_q[i][j], q[k]))\n",
        "    \n",
        "    for k in range(self.numberoflinks): #corresponds to each link\n",
        "      Phi[k] = sp.diff(self.V_q, q[k])\n",
        "      for j in range(self.numberoflinks):\n",
        "        d = d + self.D_q[k][j] * qddot[j] \n",
        "        for i in range(self.numberoflinks):\n",
        "          ct = ct + c[i][j][k] * qdot[i] * qdot[j]\n",
        "      T[k] = d + ct + Phi[k]\n",
        "\n",
        "    for i in range(self.numberoflinks):\n",
        "      print('T' + str(i+1) + ' = ' + str(T[i]))\n",
        "\n",
        "# Preparing arrays of terms to accept valid input\n",
        "q = []\n",
        "qdot = []\n",
        "qddot = []\n",
        "for i in range(1000):\n",
        "  q.append(sp.symbols('q' + str(i + 1)))\n",
        "  qdot.append(sp.symbols('q\"' + str(i + 1)))\n",
        "  qddot.append(sp.symbols('q\"\"' + str(i + 1)))\n",
        "\n",
        "# Initializing object robot with input [numberoflinks, D_q, V_q]\n",
        "robot = Robot(2, [[5, 15 * sp.cos(q[1] - q[0])], [15 * sp.cos(q[0] - q[0]), 10]], 13 * sp.sin(q[0]) + 45 * (5 * sp.sin(q[0]) + 3 * sp.sin(q[0])))\n",
        "robot.derive_equations()"
      ],
      "execution_count": null,
      "outputs": [
        {
          "output_type": "stream",
          "name": "stdout",
          "text": [
            "T1 = 5*q\"\"1 + 15*q\"\"2*cos(q1 - q2) + 15.0*q\"1**2*sin(q1 - q2) + 30.0*q\"1*q\"2*sin(q1 - q2) + 15.0*q\"2**2*sin(q1 - q2) + 373*cos(q1)\n",
            "T2 = 20*q\"\"1 + 15*q\"\"2*cos(q1 - q2) + 10*q\"\"2 + 15.0*q\"1**2*sin(q1 - q2) + 30.0*q\"1*q\"2*sin(q1 - q2) + 15.0*q\"2**2*sin(q1 - q2)\n"
          ]
        }
      ]
    },
    {
      "cell_type": "markdown",
      "metadata": {
        "id": "4hBY7zZjtPyq"
      },
      "source": [
        "**Animation Code**"
      ]
    },
    {
      "cell_type": "code",
      "metadata": {
        "id": "SSBGJBkjtOXk"
      },
      "source": [
        "import matplotlib.pyplot as plt\n",
        "def animate2R(t, q1t, q2t):  # simplest animation function very similar to matlab\n",
        "    x1 = np.zeros(np.size(q1t))\n",
        "    x2 = np.zeros(np.size(q1t))\n",
        "    y1 = np.zeros(np.size(q1t))\n",
        "    y2 = np.zeros(np.size(q1t))\n",
        "    for i in range(np.size(q1t)):\n",
        "        plt.clf()  # clear screen\n",
        "        plt.xlim([-3, 3])\n",
        "        plt.ylim([-3, 3])\n",
        "        # forward kinematics to get end points of both links\n",
        "        x1[i] = l1 * np.cos(q1t[i])\n",
        "        y1[i] = l1 * np.sin(q1t[i])\n",
        "        x2[i] = x1[i] + l2 * np.cos(q2t[i])\n",
        "        y2[i] = y1[i] + l2 * np.sin(q2t[i])\n",
        "        plt.plot([0, x1[i]], [0, y1[i]], '-o')  # draw link1\n",
        "        plt.plot([x1[i], x2[i]], [y1[i], y2[i]], '-o')  # draw link2\n",
        "        plt.pause(0.0001)\n",
        "    plt.show()\n",
        "    \n"
      ],
      "execution_count": null,
      "outputs": []
    },
    {
      "cell_type": "markdown",
      "metadata": {
        "id": "o3oQ8b1jwbGa"
      },
      "source": [
        "**Forward Dynamics Inertial Angles**"
      ]
    },
    {
      "cell_type": "code",
      "metadata": {
        "id": "6xuE6X9BwY2x"
      },
      "source": [
        "def forwarddynamicscontrol(m1, m2, l1, l2, xd, yd, prev_state):\n",
        "    # g = 0 in case of robot in horizontal plane\n",
        "    g = 9.81\n",
        "    q1 = prev_state[0][0]\n",
        "    print(\"q1\",q1)\n",
        "    q2 = prev_state[1][0]\n",
        "    print(\"q2\",q2)\n",
        "    q1dot = prev_state[2][0]\n",
        "    q2dot = prev_state[3][0]\n",
        "    d11 = (m1 * ((l1/2)** 2) + m2 * (l1 ** 2) + m1*(l1**2)/3)\n",
        "    d12 = m2 * (l1 * (l2/2) * np.cos(q2 - q1))\n",
        "    d21 = m2 * (l1 * (l2/2) * np.cos(q2 - q1))\n",
        "    d22 = m2 * (l2/2 ** 2) +  m1*(l1**2)/3\n",
        "    D = np.array([[d11, d12], [d21, d22]])\n",
        "    C = np.array([[-m2 * l1 * (l2/2) * np.sin(q2 - q1) * ((q2dot) ** 2) ],\n",
        "                  [m2 * l1 * (l2/2) * np.sin(q2 - q1) * (q1dot) ** 2]], dtype=float)\n",
        "    V = np.array([[(m1*(l1/2)+m2*l1) * g * np.cos(q1)], [m2 * g * (l2/2) * np.cos(q2)]],\n",
        "                 dtype=float)\n",
        "    gain = np.array([[10,0],[0,10]])\n",
        "    #x1,y1,x,y = forward_kinematics(np.pi/4,np.pi/4,l1,l2)\n",
        "    q1d,q2d = inverse_kinematics(xd,yd,l1,l2,elbow)\n",
        "    print(q1d,q2d)\n",
        "    X = np.array([[q1],[q2]])\n",
        "    Xd = np.array([[q1d],[q2d]])\n",
        "    Qdot = np.array([[q1dot],[q2dot]])\n",
        "    gain2 = np.array([[0.1,0],[0,0.1]])\n",
        "    tau = C+V+np.matmul(gain,Xd-X)-0*np.matmul(gain2,Qdot)\n",
        "    detinv = (1 / ((D[0][0]) * (D[1][1]) - ((D[0][1]) * (D[1][0]))))\n",
        "    di11 = detinv * D[1][1]\n",
        "    di12 = -1 * detinv * D[0][1]\n",
        "    di21 = -1 * detinv * D[1][0]\n",
        "    di22 = detinv * D[0][0]\n",
        "    Dinv = np.array([[di11, di12], [di21, di22]])\n",
        "    # print(Dinv)\n",
        "    sum = -C - V + tau\n",
        "    qddot = np.matmul(Dinv, sum)\n",
        "    qdot = np.array([[q1dot], [q2dot]])\n",
        "    print(qdot)\n",
        "    statedot = np.row_stack([qdot, qddot])\n",
        "    return statedot"
      ],
      "execution_count": null,
      "outputs": []
    },
    {
      "cell_type": "markdown",
      "metadata": {
        "id": "7LwEjKCewm0g"
      },
      "source": [
        "Integrator 1 Runge Kutta"
      ]
    },
    {
      "cell_type": "code",
      "metadata": {
        "id": "GF6dcsC9wq5E"
      },
      "source": [
        "def runge_kutta_fourth_order(f, ut, prev_state, t0, tn, h, m1, m2, l1, l2):\n",
        "    X = np.zeros([prev_state.shape[0], int((tn - t0) / h) + 1])\n",
        "    X[:][0] = prev_state[:][0]\n",
        "    t = t0\n",
        "    i = 0\n",
        "    time = np.zeros([1, int((tn - t0) / h) + 1])\n",
        "    time[0][0] = t0\n",
        "    while t <= tn:\n",
        "        xd = ut[0][i]\n",
        "        yd = ut[1][i]\n",
        "        # print(prev_state)\n",
        "        k1 = f(m1, m2, l1, l2, xd, yd, prev_state)\n",
        "        t = t + h / 2\n",
        "        k2 = f(m1, m2, l1, l2, xd, yd, (prev_state + (k1 * h / 2)))\n",
        "        k3 = f(m1, m2, l1, l2, xd, yd, prev_state + (k2 * h / 2))\n",
        "        t = t + h / 2\n",
        "        k4 = f(m1, m2, l1, l2, xd, yd, prev_state + (k3 * h))\n",
        "        k = (k1 + 2 * k2 + 2 * k3 + k4) / 6\n",
        "        x_new = prev_state + k * h\n",
        "        # print(x_new)\n",
        "        # store the result of integration for each time step as a column in X\n",
        "        X[:, i] = x_new[:, 0]\n",
        "        print(np.shape(x_new))\n",
        "        i = i + 1\n",
        "        print(np.shape(prev_state))\n",
        "        prev_state = x_new\n",
        "\n",
        "        # print(\"i\",i)\n",
        "    return X"
      ],
      "execution_count": null,
      "outputs": []
    },
    {
      "cell_type": "markdown",
      "metadata": {
        "id": "T4AM05Ryw2Uq"
      },
      "source": [
        "**Jacobian Inverse 2R Fixed Angle**"
      ]
    },
    {
      "cell_type": "code",
      "metadata": {
        "id": "3xJdNugBw1He"
      },
      "source": [
        "def jacobianinv2R(q1, q2, xdot, ydot, xddot, yddot, l1, l2):\n",
        "    Xdot = np.array([[xdot], [ydot]])\n",
        "    Xddot = np.array([[xddot], [yddot]])\n",
        "    J = np.array([[-l1 * np.sin(q1), -l2 * np.sin(q2)], [l1 * np.cos(q1), l2 * np.cos(q2)]])\n",
        "    Jinv = np.linalg.inv(J)\n",
        "    RE = np.array([[0, -1], [1, 0]])\n",
        "    Qdot = np.matmul(Jinv, Xdot)\n",
        "    A = (Xddot - np.matmul(np.matmul(RE, J), Qdot))\n",
        "    Qddot = np.matmul(Jinv, A)\n",
        "    q1dot = Qdot[0]\n",
        "    q2dot = Qdot[1]\n",
        "    q1ddot = Qddot[0]\n",
        "    q2ddot = Qddot[1]\n",
        "    return q1dot, q2dot, q1ddot, q2ddot"
      ],
      "execution_count": null,
      "outputs": []
    }
  ]
}