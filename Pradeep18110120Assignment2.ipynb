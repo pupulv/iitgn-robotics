{
  "nbformat": 4,
  "nbformat_minor": 0,
  "metadata": {
    "colab": {
      "name": "Pradeep18110120Assignment2.ipynb",
      "provenance": []
    },
    "kernelspec": {
      "name": "python3",
      "display_name": "Python 3"
    },
    "language_info": {
      "name": "python"
    }
  },
  "cells": [
    {
      "cell_type": "markdown",
      "metadata": {
        "id": "7_RH_4N6Zz0k"
      },
      "source": [
        "Question-7: RRP Scara\n",
        "(Note: For downward translation of prismatic join insert a negative value of d and vice-a-versa)"
      ]
    },
    {
      "cell_type": "code",
      "metadata": {
        "colab": {
          "base_uri": "https://localhost:8080/"
        },
        "id": "BY5fG6DkZ64u",
        "outputId": "37405351-f579-46d3-f90d-e4865e7b6c65"
      },
      "source": [
        "import numpy as np\n",
        "\n",
        "l1=int(input(\"l1=\"))\n",
        "l2=int(input(\"l2=\"))\n",
        "q1=int(input(\"q1(degree)=\"))\n",
        "q2=int(input(\"q2(degree)=\"))\n",
        "d=int(input(\"d=\"))\n",
        "\n",
        "q1=q1*(np.pi)/180\n",
        "q2=q2*(np.pi)/180\n",
        "x = l1*np.cos(q1) + l2*np.cos(q1+q2)\n",
        "y = l1*np.sin(q1) + l2*np.sin(q1+q2)\n",
        "z = d\n",
        "\n",
        "print(\"(x,y,z) = (\",x,\",\",y,\",\",z,\")\")\n"
      ],
      "execution_count": 1,
      "outputs": [
        {
          "output_type": "stream",
          "name": "stdout",
          "text": [
            "l1=5\n",
            "l2=10\n",
            "q1(degree)=90\n",
            "q2(degree)=90\n",
            "d=-5\n",
            "(x,y,z) = ( -10.0 , 5.000000000000001 , -5 )\n"
          ]
        }
      ]
    },
    {
      "cell_type": "markdown",
      "metadata": {
        "id": "wbg-mxxHb1FI"
      },
      "source": [
        "Question-8:RRP stanford"
      ]
    },
    {
      "cell_type": "code",
      "metadata": {
        "colab": {
          "base_uri": "https://localhost:8080/"
        },
        "id": "fLGftrgCcEfj",
        "outputId": "3143af82-18d6-40a8-c1d7-bfec5c2127bb"
      },
      "source": [
        "import numpy as np\n",
        "\n",
        "l1=int(input(\"l1=\"))\n",
        "l2=int(input(\"l2=\"))\n",
        "q1=int(input(\"q1(degree)=\"))\n",
        "q2=int(input(\"q2(degree)=\"))\n",
        "d=int(input(\"d=\"))\n",
        "\n",
        "q1=q1*(np.pi)/180\n",
        "q2=q2*(np.pi)/180\n",
        "x = (l2+d)*np.cos(q1)*np.cos(q2)\n",
        "y = (l2+d)*np.sin(q1)*np.cos(q2)\n",
        "z = (l2+d)*np.sin(q2)+l1\n",
        "\n",
        "print(\"(x,y,z) = (\",x,\",\",y,\",\",z,\")\")\n"
      ],
      "execution_count": 2,
      "outputs": [
        {
          "output_type": "stream",
          "name": "stdout",
          "text": [
            "l1=10\n",
            "l2=5\n",
            "q1(degree)=90\n",
            "q2(degree)=0\n",
            "d=10\n",
            "(x,y,z) = ( 9.18485099360515e-16 , 15.0 , 10.0 )\n"
          ]
        }
      ]
    },
    {
      "cell_type": "markdown",
      "metadata": {
        "id": "BgU5IeCHcOv0"
      },
      "source": [
        "Question-12: RRP scara jacobian\n",
        "(Note: For downward translation of prismatic join insert a negative value of d and vice-a-versa)"
      ]
    },
    {
      "cell_type": "code",
      "metadata": {
        "colab": {
          "base_uri": "https://localhost:8080/"
        },
        "id": "-lYVLkgscbZ7",
        "outputId": "fa0980a2-c0a1-4a44-bf3e-7e9bbd30f790"
      },
      "source": [
        "import numpy as np\n",
        "\n",
        "l1=int(input(\"l1=\"))\n",
        "l2=int(input(\"l2=\"))\n",
        "q1=int(input(\"q1(degree)=\"))\n",
        "q2=int(input(\"q2(degree)=\"))\n",
        "d=int(input(\"d=\"))\n",
        "\n",
        "q1=q1*(np.pi)/180\n",
        "q2=q2*(np.pi)/180\n",
        "\n",
        "R1 = [(-l1*np.sin(q1)-l2*np.sin(q1+q2)), (-l2*np.sin(q1+q2)), 0] \n",
        "R2 = [(l1*np.cos(q1)+l2*np.cos(q1+q2)), l2*np.cos(q1+q2), 0]\n",
        "R3 = [0, 0 , 1]\n",
        "R4 = [0, 0, 0]\n",
        "R5 = [0, 0, 0]\n",
        "R6 = [1, 1, 0]\n",
        "J =[R1, R2, R3, R4, R5, R6]\n",
        "print(\"Jacobian Matrix =\\n\", np.array(J))\n"
      ],
      "execution_count": 6,
      "outputs": [
        {
          "output_type": "stream",
          "name": "stdout",
          "text": [
            "l1=10\n",
            "l2=15\n",
            "q1(degree)=45\n",
            "q2(degree)=30\n",
            "d=-10\n",
            "Jacobian Matrix =\n",
            " [[-21.55995521 -14.48888739   0.        ]\n",
            " [ 10.95335349   3.88228568   0.        ]\n",
            " [  0.           0.           1.        ]\n",
            " [  0.           0.           0.        ]\n",
            " [  0.           0.           0.        ]\n",
            " [  1.           1.           0.        ]]\n"
          ]
        }
      ]
    },
    {
      "cell_type": "markdown",
      "metadata": {
        "id": "_P8ltlJocsa6"
      },
      "source": [
        "Question-14:RRR planar jacobian"
      ]
    },
    {
      "cell_type": "code",
      "metadata": {
        "colab": {
          "base_uri": "https://localhost:8080/"
        },
        "id": "sy2Ox0VjczA4",
        "outputId": "f0467268-fc58-4d81-c0b9-f20735da5ab8"
      },
      "source": [
        "import numpy as np\n",
        "\n",
        "l1=int(input(\"l1=\"))\n",
        "l2=int(input(\"l2=\"))\n",
        "l3=int(input(\"l3=\"))\n",
        "q1=int(input(\"q1(degree)=\"))\n",
        "q2=int(input(\"q2(degree)=\"))\n",
        "q3=int(input(\"q3(degree)=\"))\n",
        "\n",
        "q1=q1*(np.pi)/180\n",
        "q2=q2*(np.pi)/180\n",
        "q3=q3*(np.pi)/180\n",
        "\n",
        "R1 = [(-l1*np.sin(q1)-l2*np.sin(q1+q2)-l3*np.sin(q1+q2+q3)), (-l2*np.sin(q1+q2)-l3*np.sin(q1+q2+q3)), (-l3*np.sin(q1+q2+q3))] \n",
        "R2 = [(l1*np.cos(q1)+l2*np.cos(q1+q2)+l3*np.cos(q1+q2+q3)), (l2*np.cos(q1+q2)+l3*np.cos(q1+q2+q3)), (l3*np.cos(q1+q2+q3))]\n",
        "R3 = [0, 0 , 0]\n",
        "R4 = [0, 0, 0]\n",
        "R5 = [0, 0, 0]\n",
        "R6 = [1, 1, 1]\n",
        "J =[R1, R2, R3, R4, R5, R6]\n",
        "\n",
        "print(\"Jacobian Matrix =\\n\", np.array(J))\n"
      ],
      "execution_count": 5,
      "outputs": [
        {
          "output_type": "stream",
          "name": "stdout",
          "text": [
            "l1=5\n",
            "l2=10\n",
            "l3=5\n",
            "q1(degree)=90\n",
            "q2(degree)=0\n",
            "q3(degree)=0\n",
            "Jacobian Matrix =\n",
            " [[-2.00000000e+01 -1.50000000e+01 -5.00000000e+00]\n",
            " [ 1.22464680e-15  9.18485099e-16  3.06161700e-16]\n",
            " [ 0.00000000e+00  0.00000000e+00  0.00000000e+00]\n",
            " [ 0.00000000e+00  0.00000000e+00  0.00000000e+00]\n",
            " [ 0.00000000e+00  0.00000000e+00  0.00000000e+00]\n",
            " [ 1.00000000e+00  1.00000000e+00  1.00000000e+00]]\n"
          ]
        }
      ]
    }
  ]
}